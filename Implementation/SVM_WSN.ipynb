{
  "cells": [
    {
      "cell_type": "markdown",
      "metadata": {
        "id": "ViogHL0bnpdj"
      },
      "source": [
        "# Anomaly Detection in Wireless Sensor Network using SVM Algorithm\n",
        "# Dataset = Intel Berkley Research Lab Sensor Data\n",
        "[Click Me for Dataset](https://www.kaggle.com/divyansh22/intel-berkeley-research-lab-sensor-data)"
      ]
    },
    {
      "cell_type": "code",
      "execution_count": 96,
      "metadata": {
        "id": "ztWmFLysQAxt"
      },
      "outputs": [],
      "source": [
        "# Importing the Necessary Libraries\n",
        "import numpy as np\n",
        "import pandas as pd\n",
        "import matplotlib.pyplot as plt\n",
        "from collections import Counter\n",
        "from sklearn.svm import OneClassSVM\n",
        "from sklearn.cluster import DBSCAN\n",
        "from sklearn import metrics\n",
        "from pylab import rcParams\n"
      ]
    },
    {
      "cell_type": "markdown",
      "metadata": {
        "id": "lhyoAEC8VLir"
      },
      "source": [
        "##About the Dataset\n",
        "This file includes a log of about 10000 million readings collected from the 54 sensors installed in the lab. There are 8 columns in this csv file and the columns included are date:yyyy-mm-dd, time:hh:mm:ss.xxx, epoch:int, moteid:int, temperature:real, humidity:real, light:real, voltage:real.\n",
        "\n",
        "\n",
        "Epoch is a monotonically increasing sequence number from each mote. Two readings from the same epoch number were produced from different motes at the same time. There are some missing epochs in this data set. \n",
        "\n",
        "Moteids range from 1-54; data from some motes may be missing or truncated. \n",
        "\n",
        "Temperature is in degrees Celsius. \n",
        "\n",
        "Humidity is temperature corrected relative humidity, ranging from 0-100%. \n",
        "\n",
        "Light is in Lux (a value of 1 Lux corresponds to moonlight, 400 Lux to a bright office, and 100,000 Lux to full sunlight.) \n",
        "\n",
        "Voltage is expressed in volts, ranging from 2-3; the batteries, in this case, were lithium-ion cells that maintain a fairly constant voltage over their lifetime; note that variations in voltage are highly correlated with temperature."
      ]
    },
    {
      "cell_type": "code",
      "execution_count": 97,
      "metadata": {
        "colab": {
          "base_uri": "https://localhost:8080/",
          "height": 424
        },
        "id": "iqEvHyrdgrr4",
        "outputId": "29f30e8c-bf4f-4a8a-cc00-fe38ed1105e7"
      },
      "outputs": [
        {
          "data": {
            "text/html": [
              "<div>\n",
              "<style scoped>\n",
              "    .dataframe tbody tr th:only-of-type {\n",
              "        vertical-align: middle;\n",
              "    }\n",
              "\n",
              "    .dataframe tbody tr th {\n",
              "        vertical-align: top;\n",
              "    }\n",
              "\n",
              "    .dataframe thead th {\n",
              "        text-align: right;\n",
              "    }\n",
              "</style>\n",
              "<table border=\"1\" class=\"dataframe\">\n",
              "  <thead>\n",
              "    <tr style=\"text-align: right;\">\n",
              "      <th></th>\n",
              "      <th>DATE</th>\n",
              "      <th>TIME</th>\n",
              "      <th>EPOCH</th>\n",
              "      <th>NODEID</th>\n",
              "      <th>TEMPERATURE</th>\n",
              "      <th>HUMIDITY</th>\n",
              "      <th>LIGHT</th>\n",
              "      <th>VOLTAGE</th>\n",
              "    </tr>\n",
              "  </thead>\n",
              "  <tbody>\n",
              "    <tr>\n",
              "      <th>0</th>\n",
              "      <td>2004-02-28</td>\n",
              "      <td>01:08:45.992524</td>\n",
              "      <td>22</td>\n",
              "      <td>1</td>\n",
              "      <td>19.1456</td>\n",
              "      <td>38.9401</td>\n",
              "      <td>45.08</td>\n",
              "      <td>2.68742</td>\n",
              "    </tr>\n",
              "    <tr>\n",
              "      <th>1</th>\n",
              "      <td>2004-02-28</td>\n",
              "      <td>01:08:45.992525</td>\n",
              "      <td>25</td>\n",
              "      <td>2</td>\n",
              "      <td>19.1456</td>\n",
              "      <td>38.8379</td>\n",
              "      <td>45.08</td>\n",
              "      <td>2.69964</td>\n",
              "    </tr>\n",
              "    <tr>\n",
              "      <th>2</th>\n",
              "      <td>2004-02-28</td>\n",
              "      <td>01:08:45.992526</td>\n",
              "      <td>58</td>\n",
              "      <td>3</td>\n",
              "      <td>19.0084</td>\n",
              "      <td>38.9401</td>\n",
              "      <td>43.24</td>\n",
              "      <td>2.69964</td>\n",
              "    </tr>\n",
              "    <tr>\n",
              "      <th>3</th>\n",
              "      <td>2004-02-28</td>\n",
              "      <td>01:08:45.992527</td>\n",
              "      <td>62</td>\n",
              "      <td>4</td>\n",
              "      <td>18.9986</td>\n",
              "      <td>38.9742</td>\n",
              "      <td>43.24</td>\n",
              "      <td>2.68742</td>\n",
              "    </tr>\n",
              "    <tr>\n",
              "      <th>4</th>\n",
              "      <td>2004-02-28</td>\n",
              "      <td>01:08:45.992528</td>\n",
              "      <td>21</td>\n",
              "      <td>5</td>\n",
              "      <td>19.5670</td>\n",
              "      <td>39.6878</td>\n",
              "      <td>121.44</td>\n",
              "      <td>2.67532</td>\n",
              "    </tr>\n",
              "    <tr>\n",
              "      <th>...</th>\n",
              "      <td>...</td>\n",
              "      <td>...</td>\n",
              "      <td>...</td>\n",
              "      <td>...</td>\n",
              "      <td>...</td>\n",
              "      <td>...</td>\n",
              "      <td>...</td>\n",
              "      <td>...</td>\n",
              "    </tr>\n",
              "    <tr>\n",
              "      <th>95</th>\n",
              "      <td>2004-02-28</td>\n",
              "      <td>01:08:45.992619</td>\n",
              "      <td>30661</td>\n",
              "      <td>96</td>\n",
              "      <td>25.9468</td>\n",
              "      <td>36.1293</td>\n",
              "      <td>412.16</td>\n",
              "      <td>2.63964</td>\n",
              "    </tr>\n",
              "    <tr>\n",
              "      <th>96</th>\n",
              "      <td>2004-02-28</td>\n",
              "      <td>01:08:45.992620</td>\n",
              "      <td>24447</td>\n",
              "      <td>97</td>\n",
              "      <td>31.4152</td>\n",
              "      <td>26.7160</td>\n",
              "      <td>1847.36</td>\n",
              "      <td>2.69964</td>\n",
              "    </tr>\n",
              "    <tr>\n",
              "      <th>97</th>\n",
              "      <td>2004-02-28</td>\n",
              "      <td>01:08:45.992621</td>\n",
              "      <td>24448</td>\n",
              "      <td>98</td>\n",
              "      <td>31.4446</td>\n",
              "      <td>26.7520</td>\n",
              "      <td>1847.36</td>\n",
              "      <td>2.69964</td>\n",
              "    </tr>\n",
              "    <tr>\n",
              "      <th>98</th>\n",
              "      <td>2004-02-28</td>\n",
              "      <td>01:08:45.992622</td>\n",
              "      <td>24449</td>\n",
              "      <td>99</td>\n",
              "      <td>31.5132</td>\n",
              "      <td>26.6080</td>\n",
              "      <td>1847.36</td>\n",
              "      <td>2.69964</td>\n",
              "    </tr>\n",
              "    <tr>\n",
              "      <th>99</th>\n",
              "      <td>2004-02-28</td>\n",
              "      <td>01:08:45.992622</td>\n",
              "      <td>24449</td>\n",
              "      <td>100</td>\n",
              "      <td>30.4170</td>\n",
              "      <td>26.6080</td>\n",
              "      <td>1847.36</td>\n",
              "      <td>2.69964</td>\n",
              "    </tr>\n",
              "  </tbody>\n",
              "</table>\n",
              "<p>100 rows × 8 columns</p>\n",
              "</div>"
            ],
            "text/plain": [
              "          DATE             TIME  EPOCH  NODEID  TEMPERATURE  HUMIDITY  \\\n",
              "0   2004-02-28  01:08:45.992524     22       1      19.1456   38.9401   \n",
              "1   2004-02-28  01:08:45.992525     25       2      19.1456   38.8379   \n",
              "2   2004-02-28  01:08:45.992526     58       3      19.0084   38.9401   \n",
              "3   2004-02-28  01:08:45.992527     62       4      18.9986   38.9742   \n",
              "4   2004-02-28  01:08:45.992528     21       5      19.5670   39.6878   \n",
              "..         ...              ...    ...     ...          ...       ...   \n",
              "95  2004-02-28  01:08:45.992619  30661      96      25.9468   36.1293   \n",
              "96  2004-02-28  01:08:45.992620  24447      97      31.4152   26.7160   \n",
              "97  2004-02-28  01:08:45.992621  24448      98      31.4446   26.7520   \n",
              "98  2004-02-28  01:08:45.992622  24449      99      31.5132   26.6080   \n",
              "99  2004-02-28  01:08:45.992622  24449     100      30.4170   26.6080   \n",
              "\n",
              "      LIGHT  VOLTAGE  \n",
              "0     45.08  2.68742  \n",
              "1     45.08  2.69964  \n",
              "2     43.24  2.69964  \n",
              "3     43.24  2.68742  \n",
              "4    121.44  2.67532  \n",
              "..      ...      ...  \n",
              "95   412.16  2.63964  \n",
              "96  1847.36  2.69964  \n",
              "97  1847.36  2.69964  \n",
              "98  1847.36  2.69964  \n",
              "99  1847.36  2.69964  \n",
              "\n",
              "[100 rows x 8 columns]"
            ]
          },
          "execution_count": 97,
          "metadata": {},
          "output_type": "execute_result"
        }
      ],
      "source": [
        "# Reading the Data\n",
        "df = pd.read_csv(\"Data_Intel.csv\")\n",
        "df.head(100)"
      ]
    },
    {
      "cell_type": "code",
      "execution_count": 98,
      "metadata": {
        "colab": {
          "base_uri": "https://localhost:8080/",
          "height": 426
        },
        "id": "Cc_lb6KUjlNk",
        "outputId": "f6a7d03a-8572-441c-ebc2-ef90cfc56292"
      },
      "outputs": [
        {
          "data": {
            "text/html": [
              "<div>\n",
              "<style scoped>\n",
              "    .dataframe tbody tr th:only-of-type {\n",
              "        vertical-align: middle;\n",
              "    }\n",
              "\n",
              "    .dataframe tbody tr th {\n",
              "        vertical-align: top;\n",
              "    }\n",
              "\n",
              "    .dataframe thead th {\n",
              "        text-align: right;\n",
              "    }\n",
              "</style>\n",
              "<table border=\"1\" class=\"dataframe\">\n",
              "  <thead>\n",
              "    <tr style=\"text-align: right;\">\n",
              "      <th></th>\n",
              "      <th>DATE</th>\n",
              "      <th>TIME</th>\n",
              "      <th>EPOCH</th>\n",
              "      <th>NODEID</th>\n",
              "      <th>TEMPERATURE</th>\n",
              "      <th>HUMIDITY</th>\n",
              "      <th>LIGHT</th>\n",
              "      <th>VOLTAGE</th>\n",
              "    </tr>\n",
              "  </thead>\n",
              "  <tbody>\n",
              "    <tr>\n",
              "      <th>25</th>\n",
              "      <td>2004-02-28</td>\n",
              "      <td>01:08:45.992549</td>\n",
              "      <td>45216</td>\n",
              "      <td>26</td>\n",
              "      <td>102.1530</td>\n",
              "      <td>-3.83804</td>\n",
              "      <td>217.12</td>\n",
              "      <td>2.19970</td>\n",
              "    </tr>\n",
              "    <tr>\n",
              "      <th>36</th>\n",
              "      <td>2004-02-28</td>\n",
              "      <td>01:08:45.992560</td>\n",
              "      <td>46382</td>\n",
              "      <td>37</td>\n",
              "      <td>122.1530</td>\n",
              "      <td>-3.91901</td>\n",
              "      <td>11.04</td>\n",
              "      <td>2.18353</td>\n",
              "    </tr>\n",
              "    <tr>\n",
              "      <th>38</th>\n",
              "      <td>2004-02-28</td>\n",
              "      <td>01:08:45.992562</td>\n",
              "      <td>46384</td>\n",
              "      <td>39</td>\n",
              "      <td>122.1530</td>\n",
              "      <td>-3.91901</td>\n",
              "      <td>11.04</td>\n",
              "      <td>2.18353</td>\n",
              "    </tr>\n",
              "    <tr>\n",
              "      <th>39</th>\n",
              "      <td>2004-02-28</td>\n",
              "      <td>01:08:45.992563</td>\n",
              "      <td>46385</td>\n",
              "      <td>40</td>\n",
              "      <td>122.1530</td>\n",
              "      <td>-3.91901</td>\n",
              "      <td>11.04</td>\n",
              "      <td>2.18353</td>\n",
              "    </tr>\n",
              "    <tr>\n",
              "      <th>80</th>\n",
              "      <td>2004-02-28</td>\n",
              "      <td>01:08:45.992604</td>\n",
              "      <td>2966</td>\n",
              "      <td>81</td>\n",
              "      <td>36.5210</td>\n",
              "      <td>16.60340</td>\n",
              "      <td>309.12</td>\n",
              "      <td>2.65143</td>\n",
              "    </tr>\n",
              "    <tr>\n",
              "      <th>85</th>\n",
              "      <td>2004-02-28</td>\n",
              "      <td>01:08:45.992609</td>\n",
              "      <td>41117</td>\n",
              "      <td>86</td>\n",
              "      <td>122.1530</td>\n",
              "      <td>35.36870</td>\n",
              "      <td>41.40</td>\n",
              "      <td>2.17553</td>\n",
              "    </tr>\n",
              "    <tr>\n",
              "      <th>92</th>\n",
              "      <td>2004-02-28</td>\n",
              "      <td>01:08:45.992616</td>\n",
              "      <td>30659</td>\n",
              "      <td>93</td>\n",
              "      <td>122.1530</td>\n",
              "      <td>54.88910</td>\n",
              "      <td>441.60</td>\n",
              "      <td>2.31097</td>\n",
              "    </tr>\n",
              "    <tr>\n",
              "      <th>94</th>\n",
              "      <td>2004-02-28</td>\n",
              "      <td>01:08:45.992618</td>\n",
              "      <td>30660</td>\n",
              "      <td>95</td>\n",
              "      <td>122.1530</td>\n",
              "      <td>54.85780</td>\n",
              "      <td>397.44</td>\n",
              "      <td>2.31097</td>\n",
              "    </tr>\n",
              "    <tr>\n",
              "      <th>96</th>\n",
              "      <td>2004-02-28</td>\n",
              "      <td>01:08:45.992620</td>\n",
              "      <td>24447</td>\n",
              "      <td>97</td>\n",
              "      <td>31.4152</td>\n",
              "      <td>26.71600</td>\n",
              "      <td>1847.36</td>\n",
              "      <td>2.69964</td>\n",
              "    </tr>\n",
              "    <tr>\n",
              "      <th>97</th>\n",
              "      <td>2004-02-28</td>\n",
              "      <td>01:08:45.992621</td>\n",
              "      <td>24448</td>\n",
              "      <td>98</td>\n",
              "      <td>31.4446</td>\n",
              "      <td>26.75200</td>\n",
              "      <td>1847.36</td>\n",
              "      <td>2.69964</td>\n",
              "    </tr>\n",
              "    <tr>\n",
              "      <th>98</th>\n",
              "      <td>2004-02-28</td>\n",
              "      <td>01:08:45.992622</td>\n",
              "      <td>24449</td>\n",
              "      <td>99</td>\n",
              "      <td>31.5132</td>\n",
              "      <td>26.60800</td>\n",
              "      <td>1847.36</td>\n",
              "      <td>2.69964</td>\n",
              "    </tr>\n",
              "    <tr>\n",
              "      <th>99</th>\n",
              "      <td>2004-02-28</td>\n",
              "      <td>01:08:45.992622</td>\n",
              "      <td>24449</td>\n",
              "      <td>100</td>\n",
              "      <td>30.4170</td>\n",
              "      <td>26.60800</td>\n",
              "      <td>1847.36</td>\n",
              "      <td>2.69964</td>\n",
              "    </tr>\n",
              "  </tbody>\n",
              "</table>\n",
              "</div>"
            ],
            "text/plain": [
              "          DATE             TIME  EPOCH  NODEID  TEMPERATURE  HUMIDITY  \\\n",
              "25  2004-02-28  01:08:45.992549  45216      26     102.1530  -3.83804   \n",
              "36  2004-02-28  01:08:45.992560  46382      37     122.1530  -3.91901   \n",
              "38  2004-02-28  01:08:45.992562  46384      39     122.1530  -3.91901   \n",
              "39  2004-02-28  01:08:45.992563  46385      40     122.1530  -3.91901   \n",
              "80  2004-02-28  01:08:45.992604   2966      81      36.5210  16.60340   \n",
              "85  2004-02-28  01:08:45.992609  41117      86     122.1530  35.36870   \n",
              "92  2004-02-28  01:08:45.992616  30659      93     122.1530  54.88910   \n",
              "94  2004-02-28  01:08:45.992618  30660      95     122.1530  54.85780   \n",
              "96  2004-02-28  01:08:45.992620  24447      97      31.4152  26.71600   \n",
              "97  2004-02-28  01:08:45.992621  24448      98      31.4446  26.75200   \n",
              "98  2004-02-28  01:08:45.992622  24449      99      31.5132  26.60800   \n",
              "99  2004-02-28  01:08:45.992622  24449     100      30.4170  26.60800   \n",
              "\n",
              "      LIGHT  VOLTAGE  \n",
              "25   217.12  2.19970  \n",
              "36    11.04  2.18353  \n",
              "38    11.04  2.18353  \n",
              "39    11.04  2.18353  \n",
              "80   309.12  2.65143  \n",
              "85    41.40  2.17553  \n",
              "92   441.60  2.31097  \n",
              "94   397.44  2.31097  \n",
              "96  1847.36  2.69964  \n",
              "97  1847.36  2.69964  \n",
              "98  1847.36  2.69964  \n",
              "99  1847.36  2.69964  "
            ]
          },
          "execution_count": 98,
          "metadata": {},
          "output_type": "execute_result"
        }
      ],
      "source": [
        "a = df[df['TEMPERATURE'] > 30]\n",
        "a"
      ]
    },
    {
      "cell_type": "markdown",
      "metadata": {
        "id": "RLVdi74spivi"
      },
      "source": [
        "# Info about the Data"
      ]
    },
    {
      "cell_type": "code",
      "execution_count": 99,
      "metadata": {
        "colab": {
          "base_uri": "https://localhost:8080/",
          "height": 300
        },
        "id": "xzAxzlfVg8zn",
        "outputId": "664c9044-3e5a-4c63-a2d1-d73dd1aec37e"
      },
      "outputs": [
        {
          "data": {
            "text/html": [
              "<div>\n",
              "<style scoped>\n",
              "    .dataframe tbody tr th:only-of-type {\n",
              "        vertical-align: middle;\n",
              "    }\n",
              "\n",
              "    .dataframe tbody tr th {\n",
              "        vertical-align: top;\n",
              "    }\n",
              "\n",
              "    .dataframe thead th {\n",
              "        text-align: right;\n",
              "    }\n",
              "</style>\n",
              "<table border=\"1\" class=\"dataframe\">\n",
              "  <thead>\n",
              "    <tr style=\"text-align: right;\">\n",
              "      <th></th>\n",
              "      <th>EPOCH</th>\n",
              "      <th>NODEID</th>\n",
              "      <th>TEMPERATURE</th>\n",
              "      <th>HUMIDITY</th>\n",
              "      <th>LIGHT</th>\n",
              "      <th>VOLTAGE</th>\n",
              "    </tr>\n",
              "  </thead>\n",
              "  <tbody>\n",
              "    <tr>\n",
              "      <th>count</th>\n",
              "      <td>100.000000</td>\n",
              "      <td>100.000000</td>\n",
              "      <td>100.000000</td>\n",
              "      <td>100.000000</td>\n",
              "      <td>100.000000</td>\n",
              "      <td>100.000000</td>\n",
              "    </tr>\n",
              "    <tr>\n",
              "      <th>mean</th>\n",
              "      <td>22838.400000</td>\n",
              "      <td>50.500000</td>\n",
              "      <td>28.192670</td>\n",
              "      <td>38.055877</td>\n",
              "      <td>508.074600</td>\n",
              "      <td>2.560392</td>\n",
              "    </tr>\n",
              "    <tr>\n",
              "      <th>std</th>\n",
              "      <td>15197.196261</td>\n",
              "      <td>29.011492</td>\n",
              "      <td>25.414741</td>\n",
              "      <td>11.338844</td>\n",
              "      <td>720.276375</td>\n",
              "      <td>0.140186</td>\n",
              "    </tr>\n",
              "    <tr>\n",
              "      <th>min</th>\n",
              "      <td>21.000000</td>\n",
              "      <td>1.000000</td>\n",
              "      <td>16.842600</td>\n",
              "      <td>-3.919010</td>\n",
              "      <td>0.460000</td>\n",
              "      <td>2.175530</td>\n",
              "    </tr>\n",
              "    <tr>\n",
              "      <th>25%</th>\n",
              "      <td>11563.750000</td>\n",
              "      <td>25.750000</td>\n",
              "      <td>19.361200</td>\n",
              "      <td>35.498525</td>\n",
              "      <td>3.680000</td>\n",
              "      <td>2.454210</td>\n",
              "    </tr>\n",
              "    <tr>\n",
              "      <th>50%</th>\n",
              "      <td>23061.000000</td>\n",
              "      <td>50.500000</td>\n",
              "      <td>20.948800</td>\n",
              "      <td>39.738700</td>\n",
              "      <td>103.040000</td>\n",
              "      <td>2.593540</td>\n",
              "    </tr>\n",
              "    <tr>\n",
              "      <th>75%</th>\n",
              "      <td>32701.000000</td>\n",
              "      <td>75.250000</td>\n",
              "      <td>24.087250</td>\n",
              "      <td>42.779600</td>\n",
              "      <td>713.920000</td>\n",
              "      <td>2.663320</td>\n",
              "    </tr>\n",
              "    <tr>\n",
              "      <th>max</th>\n",
              "      <td>55082.000000</td>\n",
              "      <td>100.000000</td>\n",
              "      <td>122.153000</td>\n",
              "      <td>54.889100</td>\n",
              "      <td>1847.360000</td>\n",
              "      <td>2.762420</td>\n",
              "    </tr>\n",
              "  </tbody>\n",
              "</table>\n",
              "</div>"
            ],
            "text/plain": [
              "              EPOCH      NODEID  TEMPERATURE    HUMIDITY        LIGHT  \\\n",
              "count    100.000000  100.000000   100.000000  100.000000   100.000000   \n",
              "mean   22838.400000   50.500000    28.192670   38.055877   508.074600   \n",
              "std    15197.196261   29.011492    25.414741   11.338844   720.276375   \n",
              "min       21.000000    1.000000    16.842600   -3.919010     0.460000   \n",
              "25%    11563.750000   25.750000    19.361200   35.498525     3.680000   \n",
              "50%    23061.000000   50.500000    20.948800   39.738700   103.040000   \n",
              "75%    32701.000000   75.250000    24.087250   42.779600   713.920000   \n",
              "max    55082.000000  100.000000   122.153000   54.889100  1847.360000   \n",
              "\n",
              "          VOLTAGE  \n",
              "count  100.000000  \n",
              "mean     2.560392  \n",
              "std      0.140186  \n",
              "min      2.175530  \n",
              "25%      2.454210  \n",
              "50%      2.593540  \n",
              "75%      2.663320  \n",
              "max      2.762420  "
            ]
          },
          "execution_count": 99,
          "metadata": {},
          "output_type": "execute_result"
        }
      ],
      "source": [
        "df.describe()"
      ]
    },
    {
      "cell_type": "code",
      "execution_count": 100,
      "metadata": {
        "colab": {
          "base_uri": "https://localhost:8080/"
        },
        "id": "-0v5iGAAhKV-",
        "outputId": "42a75134-459c-4968-f11d-3f4af02c8bc8"
      },
      "outputs": [
        {
          "name": "stdout",
          "output_type": "stream",
          "text": [
            "<class 'pandas.core.frame.DataFrame'>\n",
            "RangeIndex: 100 entries, 0 to 99\n",
            "Data columns (total 8 columns):\n",
            " #   Column       Non-Null Count  Dtype  \n",
            "---  ------       --------------  -----  \n",
            " 0   DATE         100 non-null    object \n",
            " 1   TIME         100 non-null    object \n",
            " 2   EPOCH        100 non-null    int64  \n",
            " 3   NODEID       100 non-null    int64  \n",
            " 4   TEMPERATURE  100 non-null    float64\n",
            " 5   HUMIDITY     100 non-null    float64\n",
            " 6   LIGHT        100 non-null    float64\n",
            " 7   VOLTAGE      100 non-null    float64\n",
            "dtypes: float64(4), int64(2), object(2)\n",
            "memory usage: 6.4+ KB\n"
          ]
        }
      ],
      "source": [
        "df.info()\n"
      ]
    },
    {
      "cell_type": "markdown",
      "metadata": {
        "id": "e9b0mQRApnqM"
      },
      "source": [
        "# Plotting the Initial Data Values"
      ]
    },
    {
      "cell_type": "code",
      "execution_count": 101,
      "metadata": {
        "colab": {
          "base_uri": "https://localhost:8080/",
          "height": 627
        },
        "id": "orxOr-SAUidh",
        "outputId": "03d6e4bb-12af-4580-d926-ceb59946daa3"
      },
      "outputs": [
        {
          "data": {
            "image/png": "[encoded data removed]",
            "text/plain": [
              "<Figure size 1080x720 with 1 Axes>"
            ]
          },
          "metadata": {
            "needs_background": "light"
          },
          "output_type": "display_data"
        }
      ],
      "source": [
        "plt.figure(figsize=(15,10))\n",
        "plt.scatter(df['TEMPERATURE'], df['HUMIDITY'],\n",
        "           marker = '.')\n",
        "plt.grid(which='major', color='#cccccc', alpha = 0.45)\n",
        "plt.title('TEMPERATURE VS HUMIDIDITY GRAPH', fontsize=20)\n",
        "plt.xlabel('Temperature')\n",
        "plt.ylabel('HUmidity')\n",
        "plt.show()"
      ]
    },
    {
      "cell_type": "code",
      "execution_count": 102,
      "metadata": {
        "id": "GJmGRHudXUng"
      },
      "outputs": [],
      "source": [
        "# Importing DBSCAN from sklearn\n",
        "# from sklearn.cluster import DBSCAN\n",
        "# dbscan = DBSCAN(eps=2, min_samples=4)\n"
      ]
    },
    {
      "cell_type": "code",
      "execution_count": 103,
      "metadata": {
        "colab": {
          "base_uri": "https://localhost:8080/"
        },
        "id": "iuSJSKBNfcpA",
        "outputId": "f7e8a6e0-1d2b-46a8-8a32-68fb61ecce58"
      },
      "outputs": [
        {
          "data": {
            "text/plain": [
              "array([[ 19.1456 ,  38.9401 ],\n",
              "       [ 19.1456 ,  38.8379 ],\n",
              "       [ 19.0084 ,  38.9401 ],\n",
              "       [ 18.9986 ,  38.9742 ],\n",
              "       [ 19.567  ,  39.6878 ],\n",
              "       [ 19.5376 ,  39.7557 ],\n",
              "       [ 19.4788 ,  39.6878 ],\n",
              "       [ 19.4494 ,  39.7217 ],\n",
              "       [ 21.2036 ,  40.7706 ],\n",
              "       [ 19.6944 ,  48.5139 ],\n",
              "       [ 19.5768 ,  48.9675 ],\n",
              "       [ 19.5376 ,  49.0969 ],\n",
              "       [ 21.38   ,  41.1078 ],\n",
              "       [ 21.3702 ,  41.1078 ],\n",
              "       [ 21.3212 ,  41.1078 ],\n",
              "       [ 21.3114 ,  41.1751 ],\n",
              "       [ 21.6838 ,  40.568  ],\n",
              "       [ 21.6936 ,  40.5004 ],\n",
              "       [ 21.6936 ,  40.568  ],\n",
              "       [ 21.6936 ,  40.568  ],\n",
              "       [ 21.6936 ,  40.5342 ],\n",
              "       [ 21.6936 ,  40.568  ],\n",
              "       [ 21.6936 ,  40.5004 ],\n",
              "       [ 21.6838 ,  40.5342 ],\n",
              "       [ 20.8214 ,  48.8056 ],\n",
              "       [102.153  ,  -3.83804],\n",
              "       [ 20.7332 ,  49.7424 ],\n",
              "       [ 20.694  ,  49.4199 ],\n",
              "       [ 19.5768 ,  31.6664 ],\n",
              "       [ 19.5768 ,  31.6664 ],\n",
              "       [ 19.5768 ,  31.6312 ],\n",
              "       [ 19.567  ,  31.6664 ],\n",
              "       [ 20.89   ,  40.9055 ],\n",
              "       [ 20.9096 ,  40.8718 ],\n",
              "       [ 20.9096 ,  40.9055 ],\n",
              "       [ 20.8998 ,  40.9055 ],\n",
              "       [122.153  ,  -3.91901],\n",
              "       [ 20.4294 ,  45.5391 ],\n",
              "       [122.153  ,  -3.91901],\n",
              "       [122.153  ,  -3.91901],\n",
              "       [ 24.0848 ,  38.872  ],\n",
              "       [ 24.1044 ,  38.872  ],\n",
              "       [ 24.1044 ,  38.8379 ],\n",
              "       [ 24.0946 ,  38.872  ],\n",
              "       [ 18.9398 ,  45.4732 ],\n",
              "       [ 18.93   ,  45.3743 ],\n",
              "       [ 18.9398 ,  45.4732 ],\n",
              "       [ 18.9398 ,  45.4402 ],\n",
              "       [ 21.0664 ,  45.5391 ],\n",
              "       [ 21.0468 ,  45.7037 ]])"
            ]
          },
          "execution_count": 103,
          "metadata": {},
          "output_type": "execute_result"
        }
      ],
      "source": [
        "X = df.iloc[:, [4, 5]].values # selecting all entries of Temperature and Humidity Column\n",
        "X[0:50] # printing first 10 entries of the list"
      ]
    },
    {
      "cell_type": "markdown",
      "metadata": {
        "id": "pfaNckwqp60s"
      },
      "source": [
        "# Training the Model"
      ]
    },
    {
      "cell_type": "code",
      "execution_count": 104,
      "metadata": {
        "colab": {
          "base_uri": "https://localhost:8080/"
        },
        "id": "mPKWdi_5YJnn",
        "outputId": "c321f74c-a0c5-4ca6-babf-472314a477a9"
      },
      "outputs": [
        {
          "data": {
            "text/plain": [
              "OneClassSVM(gamma=0.001, nu=0.3)"
            ]
          },
          "execution_count": 104,
          "metadata": {},
          "output_type": "execute_result"
        }
      ],
      "source": [
        "model = OneClassSVM(kernel = 'rbf', gamma = 0.001, nu = 0.3).fit(X)\n",
        "model"
      ]
    },
    {
      "cell_type": "markdown",
      "metadata": {
        "id": "4mdtrLaXp_up"
      },
      "source": [
        "# Prining labels\n",
        "*   **-ve points represents the outliers they do not fall under any cluster**\n",
        "*   \n",
        "others denote the cluster 0th, 1th, 2th,...8th cluster\n",
        "\n"
      ]
    },
    {
      "cell_type": "code",
      "execution_count": 105,
      "metadata": {
        "colab": {
          "base_uri": "https://localhost:8080/"
        },
        "id": "wPuSse9FgFBc",
        "outputId": "8123e2df-0f19-46a8-a895-ef9c3a65c91a"
      },
      "outputs": [
        {
          "name": "stdout",
          "output_type": "stream",
          "text": [
            "Iteration : 0  Label : 1\n",
            "Iteration : 1  Label : 1\n",
            "Iteration : 2  Label : 1\n",
            "Iteration : 3  Label : 1\n",
            "Iteration : 4  Label : 1\n",
            "Iteration : 5  Label : 1\n",
            "Iteration : 6  Label : 1\n",
            "Iteration : 7  Label : 1\n",
            "Iteration : 8  Label : 1\n",
            "Iteration : 9  Label : 1\n",
            "Iteration : 10  Label : 1\n",
            "Iteration : 11  Label : -1\n",
            "Iteration : 12  Label : 1\n",
            "Iteration : 13  Label : 1\n",
            "Iteration : 14  Label : 1\n",
            "Iteration : 15  Label : 1\n",
            "Iteration : 16  Label : 1\n",
            "Iteration : 17  Label : 1\n",
            "Iteration : 18  Label : 1\n",
            "Iteration : 19  Label : 1\n",
            "Iteration : 20  Label : 1\n",
            "Iteration : 21  Label : 1\n",
            "Iteration : 22  Label : 1\n",
            "Iteration : 23  Label : 1\n",
            "Iteration : 24  Label : 1\n",
            "Iteration : 25  Label : -1\n",
            "Iteration : 26  Label : -1\n",
            "Iteration : 27  Label : -1\n",
            "Iteration : 28  Label : 1\n",
            "Iteration : 29  Label : 1\n",
            "Iteration : 30  Label : 1\n",
            "Iteration : 31  Label : 1\n",
            "Iteration : 32  Label : 1\n",
            "Iteration : 33  Label : 1\n",
            "Iteration : 34  Label : 1\n",
            "Iteration : 35  Label : 1\n",
            "Iteration : 36  Label : -1\n",
            "Iteration : 37  Label : 1\n",
            "Iteration : 38  Label : -1\n",
            "Iteration : 39  Label : -1\n",
            "Iteration : 40  Label : 1\n",
            "Iteration : 41  Label : 1\n",
            "Iteration : 42  Label : 1\n",
            "Iteration : 43  Label : 1\n",
            "Iteration : 44  Label : 1\n",
            "Iteration : 45  Label : 1\n",
            "Iteration : 46  Label : 1\n",
            "Iteration : 47  Label : 1\n",
            "Iteration : 48  Label : 1\n",
            "Iteration : 49  Label : 1\n",
            "Iteration : 50  Label : 1\n",
            "Iteration : 51  Label : 1\n",
            "Iteration : 52  Label : -1\n",
            "Iteration : 53  Label : -1\n",
            "Iteration : 54  Label : -1\n",
            "Iteration : 55  Label : -1\n",
            "Iteration : 56  Label : -1\n",
            "Iteration : 57  Label : -1\n",
            "Iteration : 58  Label : -1\n",
            "Iteration : 59  Label : -1\n",
            "Iteration : 60  Label : -1\n",
            "Iteration : 61  Label : -1\n",
            "Iteration : 62  Label : -1\n",
            "Iteration : 63  Label : -1\n",
            "Iteration : 64  Label : 1\n",
            "Iteration : 65  Label : 1\n",
            "Iteration : 66  Label : 1\n",
            "Iteration : 67  Label : 1\n",
            "Iteration : 68  Label : 1\n",
            "Iteration : 69  Label : 1\n",
            "Iteration : 70  Label : 1\n",
            "Iteration : 71  Label : 1\n",
            "Iteration : 72  Label : 1\n",
            "Iteration : 73  Label : 1\n",
            "Iteration : 74  Label : 1\n",
            "Iteration : 75  Label : 1\n",
            "Iteration : 76  Label : -1\n",
            "Iteration : 77  Label : -1\n",
            "Iteration : 78  Label : -1\n",
            "Iteration : 79  Label : -1\n",
            "Iteration : 80  Label : -1\n",
            "Iteration : 81  Label : 1\n",
            "Iteration : 82  Label : 1\n",
            "Iteration : 83  Label : 1\n",
            "Iteration : 84  Label : 1\n",
            "Iteration : 85  Label : -1\n",
            "Iteration : 86  Label : 1\n",
            "Iteration : 87  Label : 1\n",
            "Iteration : 88  Label : 1\n",
            "Iteration : 89  Label : 1\n",
            "Iteration : 90  Label : 1\n",
            "Iteration : 91  Label : 1\n",
            "Iteration : 92  Label : -1\n",
            "Iteration : 93  Label : 1\n",
            "Iteration : 94  Label : -1\n",
            "Iteration : 95  Label : 1\n",
            "Iteration : 96  Label : -1\n",
            "Iteration : 97  Label : -1\n",
            "Iteration : 98  Label : -1\n",
            "Iteration : 99  Label : -1\n"
          ]
        }
      ],
      "source": [
        "labels = model.predict(X)\n",
        "for i in range (0,100):\n",
        "  print(\"Iteration : {}  Label : {}\".format(i,labels[i]))"
      ]
    },
    {
      "cell_type": "markdown",
      "metadata": {
        "id": "20CxA2BChO6y"
      },
      "source": [
        "# Visualizing Results\n",
        "Separate outliers from cluster data\n"
      ]
    },
    {
      "cell_type": "code",
      "execution_count": 106,
      "metadata": {
        "id": "UdTMaUe8gQgM"
      },
      "outputs": [],
      "source": [
        "outliers_df = df[model.predict(X)== -1] #-1 stands for outlier\n",
        "clusters_df = df[model.predict(X) != -1]"
      ]
    },
    {
      "cell_type": "code",
      "execution_count": 107,
      "metadata": {},
      "outputs": [
        {
          "data": {
            "text/html": [
              "<div>\n",
              "<style scoped>\n",
              "    .dataframe tbody tr th:only-of-type {\n",
              "        vertical-align: middle;\n",
              "    }\n",
              "\n",
              "    .dataframe tbody tr th {\n",
              "        vertical-align: top;\n",
              "    }\n",
              "\n",
              "    .dataframe thead th {\n",
              "        text-align: right;\n",
              "    }\n",
              "</style>\n",
              "<table border=\"1\" class=\"dataframe\">\n",
              "  <thead>\n",
              "    <tr style=\"text-align: right;\">\n",
              "      <th></th>\n",
              "      <th>DATE</th>\n",
              "      <th>TIME</th>\n",
              "      <th>EPOCH</th>\n",
              "      <th>NODEID</th>\n",
              "      <th>TEMPERATURE</th>\n",
              "      <th>HUMIDITY</th>\n",
              "      <th>LIGHT</th>\n",
              "      <th>VOLTAGE</th>\n",
              "    </tr>\n",
              "  </thead>\n",
              "  <tbody>\n",
              "    <tr>\n",
              "      <th>11</th>\n",
              "      <td>2004-02-28</td>\n",
              "      <td>01:08:45.992535</td>\n",
              "      <td>32704</td>\n",
              "      <td>12</td>\n",
              "      <td>19.5376</td>\n",
              "      <td>49.09690</td>\n",
              "      <td>1.84</td>\n",
              "      <td>2.32000</td>\n",
              "    </tr>\n",
              "    <tr>\n",
              "      <th>25</th>\n",
              "      <td>2004-02-28</td>\n",
              "      <td>01:08:45.992549</td>\n",
              "      <td>45216</td>\n",
              "      <td>26</td>\n",
              "      <td>102.1530</td>\n",
              "      <td>-3.83804</td>\n",
              "      <td>217.12</td>\n",
              "      <td>2.19970</td>\n",
              "    </tr>\n",
              "    <tr>\n",
              "      <th>26</th>\n",
              "      <td>2004-02-28</td>\n",
              "      <td>01:08:45.992550</td>\n",
              "      <td>45217</td>\n",
              "      <td>27</td>\n",
              "      <td>20.7332</td>\n",
              "      <td>49.74240</td>\n",
              "      <td>90.16</td>\n",
              "      <td>2.49546</td>\n",
              "    </tr>\n",
              "    <tr>\n",
              "      <th>27</th>\n",
              "      <td>2004-02-28</td>\n",
              "      <td>01:08:45.992551</td>\n",
              "      <td>45218</td>\n",
              "      <td>28</td>\n",
              "      <td>20.6940</td>\n",
              "      <td>49.41990</td>\n",
              "      <td>90.16</td>\n",
              "      <td>2.50599</td>\n",
              "    </tr>\n",
              "    <tr>\n",
              "      <th>36</th>\n",
              "      <td>2004-02-28</td>\n",
              "      <td>01:08:45.992560</td>\n",
              "      <td>46382</td>\n",
              "      <td>37</td>\n",
              "      <td>122.1530</td>\n",
              "      <td>-3.91901</td>\n",
              "      <td>11.04</td>\n",
              "      <td>2.18353</td>\n",
              "    </tr>\n",
              "    <tr>\n",
              "      <th>38</th>\n",
              "      <td>2004-02-28</td>\n",
              "      <td>01:08:45.992562</td>\n",
              "      <td>46384</td>\n",
              "      <td>39</td>\n",
              "      <td>122.1530</td>\n",
              "      <td>-3.91901</td>\n",
              "      <td>11.04</td>\n",
              "      <td>2.18353</td>\n",
              "    </tr>\n",
              "    <tr>\n",
              "      <th>39</th>\n",
              "      <td>2004-02-28</td>\n",
              "      <td>01:08:45.992563</td>\n",
              "      <td>46385</td>\n",
              "      <td>40</td>\n",
              "      <td>122.1530</td>\n",
              "      <td>-3.91901</td>\n",
              "      <td>11.04</td>\n",
              "      <td>2.18353</td>\n",
              "    </tr>\n",
              "    <tr>\n",
              "      <th>52</th>\n",
              "      <td>2004-02-28</td>\n",
              "      <td>01:08:45.992576</td>\n",
              "      <td>11563</td>\n",
              "      <td>53</td>\n",
              "      <td>19.3612</td>\n",
              "      <td>29.72050</td>\n",
              "      <td>93.84</td>\n",
              "      <td>2.66332</td>\n",
              "    </tr>\n",
              "    <tr>\n",
              "      <th>53</th>\n",
              "      <td>2004-02-28</td>\n",
              "      <td>01:08:45.992577</td>\n",
              "      <td>11564</td>\n",
              "      <td>54</td>\n",
              "      <td>19.3612</td>\n",
              "      <td>29.79160</td>\n",
              "      <td>93.84</td>\n",
              "      <td>2.66332</td>\n",
              "    </tr>\n",
              "    <tr>\n",
              "      <th>54</th>\n",
              "      <td>2004-02-28</td>\n",
              "      <td>01:08:45.992578</td>\n",
              "      <td>11565</td>\n",
              "      <td>55</td>\n",
              "      <td>19.3514</td>\n",
              "      <td>29.75610</td>\n",
              "      <td>93.84</td>\n",
              "      <td>2.66332</td>\n",
              "    </tr>\n",
              "    <tr>\n",
              "      <th>55</th>\n",
              "      <td>2004-02-28</td>\n",
              "      <td>01:08:45.992579</td>\n",
              "      <td>11566</td>\n",
              "      <td>56</td>\n",
              "      <td>19.3612</td>\n",
              "      <td>29.68500</td>\n",
              "      <td>93.84</td>\n",
              "      <td>2.67532</td>\n",
              "    </tr>\n",
              "    <tr>\n",
              "      <th>56</th>\n",
              "      <td>2004-02-28</td>\n",
              "      <td>01:08:45.992580</td>\n",
              "      <td>38233</td>\n",
              "      <td>57</td>\n",
              "      <td>16.8426</td>\n",
              "      <td>53.66350</td>\n",
              "      <td>1847.36</td>\n",
              "      <td>2.42416</td>\n",
              "    </tr>\n",
              "    <tr>\n",
              "      <th>57</th>\n",
              "      <td>2004-02-28</td>\n",
              "      <td>01:08:45.992581</td>\n",
              "      <td>38234</td>\n",
              "      <td>58</td>\n",
              "      <td>16.8916</td>\n",
              "      <td>53.47420</td>\n",
              "      <td>1847.36</td>\n",
              "      <td>2.42416</td>\n",
              "    </tr>\n",
              "    <tr>\n",
              "      <th>58</th>\n",
              "      <td>2004-02-28</td>\n",
              "      <td>01:08:45.992582</td>\n",
              "      <td>38235</td>\n",
              "      <td>59</td>\n",
              "      <td>16.9112</td>\n",
              "      <td>53.50580</td>\n",
              "      <td>1847.36</td>\n",
              "      <td>2.43410</td>\n",
              "    </tr>\n",
              "    <tr>\n",
              "      <th>59</th>\n",
              "      <td>2004-02-28</td>\n",
              "      <td>01:08:45.992583</td>\n",
              "      <td>38236</td>\n",
              "      <td>60</td>\n",
              "      <td>17.1072</td>\n",
              "      <td>52.93680</td>\n",
              "      <td>1847.36</td>\n",
              "      <td>2.43410</td>\n",
              "    </tr>\n",
              "    <tr>\n",
              "      <th>60</th>\n",
              "      <td>2004-02-28</td>\n",
              "      <td>01:08:45.992584</td>\n",
              "      <td>38237</td>\n",
              "      <td>61</td>\n",
              "      <td>17.1464</td>\n",
              "      <td>52.74670</td>\n",
              "      <td>1847.36</td>\n",
              "      <td>2.43410</td>\n",
              "    </tr>\n",
              "    <tr>\n",
              "      <th>61</th>\n",
              "      <td>2004-02-28</td>\n",
              "      <td>01:08:45.992585</td>\n",
              "      <td>38238</td>\n",
              "      <td>62</td>\n",
              "      <td>17.1758</td>\n",
              "      <td>52.68330</td>\n",
              "      <td>1847.36</td>\n",
              "      <td>2.42416</td>\n",
              "    </tr>\n",
              "    <tr>\n",
              "      <th>62</th>\n",
              "      <td>2004-02-28</td>\n",
              "      <td>01:08:45.992586</td>\n",
              "      <td>38240</td>\n",
              "      <td>63</td>\n",
              "      <td>17.3130</td>\n",
              "      <td>52.23880</td>\n",
              "      <td>1847.36</td>\n",
              "      <td>2.43410</td>\n",
              "    </tr>\n",
              "    <tr>\n",
              "      <th>63</th>\n",
              "      <td>2004-02-28</td>\n",
              "      <td>01:08:45.992587</td>\n",
              "      <td>38242</td>\n",
              "      <td>64</td>\n",
              "      <td>17.4502</td>\n",
              "      <td>51.88880</td>\n",
              "      <td>1847.36</td>\n",
              "      <td>2.43410</td>\n",
              "    </tr>\n",
              "    <tr>\n",
              "      <th>76</th>\n",
              "      <td>2004-02-28</td>\n",
              "      <td>01:08:45.992600</td>\n",
              "      <td>12919</td>\n",
              "      <td>77</td>\n",
              "      <td>25.0550</td>\n",
              "      <td>28.18750</td>\n",
              "      <td>684.48</td>\n",
              "      <td>2.69964</td>\n",
              "    </tr>\n",
              "    <tr>\n",
              "      <th>77</th>\n",
              "      <td>2004-02-28</td>\n",
              "      <td>01:08:45.992601</td>\n",
              "      <td>12921</td>\n",
              "      <td>78</td>\n",
              "      <td>25.0354</td>\n",
              "      <td>28.33050</td>\n",
              "      <td>713.92</td>\n",
              "      <td>2.71196</td>\n",
              "    </tr>\n",
              "    <tr>\n",
              "      <th>78</th>\n",
              "      <td>2004-02-28</td>\n",
              "      <td>01:08:45.992602</td>\n",
              "      <td>12923</td>\n",
              "      <td>79</td>\n",
              "      <td>25.0452</td>\n",
              "      <td>28.25900</td>\n",
              "      <td>713.92</td>\n",
              "      <td>2.71196</td>\n",
              "    </tr>\n",
              "    <tr>\n",
              "      <th>79</th>\n",
              "      <td>2004-02-28</td>\n",
              "      <td>01:08:45.992603</td>\n",
              "      <td>12924</td>\n",
              "      <td>80</td>\n",
              "      <td>25.0354</td>\n",
              "      <td>28.29480</td>\n",
              "      <td>713.92</td>\n",
              "      <td>2.71196</td>\n",
              "    </tr>\n",
              "    <tr>\n",
              "      <th>80</th>\n",
              "      <td>2004-02-28</td>\n",
              "      <td>01:08:45.992604</td>\n",
              "      <td>2966</td>\n",
              "      <td>81</td>\n",
              "      <td>36.5210</td>\n",
              "      <td>16.60340</td>\n",
              "      <td>309.12</td>\n",
              "      <td>2.65143</td>\n",
              "    </tr>\n",
              "    <tr>\n",
              "      <th>85</th>\n",
              "      <td>2004-02-28</td>\n",
              "      <td>01:08:45.992609</td>\n",
              "      <td>41117</td>\n",
              "      <td>86</td>\n",
              "      <td>122.1530</td>\n",
              "      <td>35.36870</td>\n",
              "      <td>41.40</td>\n",
              "      <td>2.17553</td>\n",
              "    </tr>\n",
              "    <tr>\n",
              "      <th>92</th>\n",
              "      <td>2004-02-28</td>\n",
              "      <td>01:08:45.992616</td>\n",
              "      <td>30659</td>\n",
              "      <td>93</td>\n",
              "      <td>122.1530</td>\n",
              "      <td>54.88910</td>\n",
              "      <td>441.60</td>\n",
              "      <td>2.31097</td>\n",
              "    </tr>\n",
              "    <tr>\n",
              "      <th>94</th>\n",
              "      <td>2004-02-28</td>\n",
              "      <td>01:08:45.992618</td>\n",
              "      <td>30660</td>\n",
              "      <td>95</td>\n",
              "      <td>122.1530</td>\n",
              "      <td>54.85780</td>\n",
              "      <td>397.44</td>\n",
              "      <td>2.31097</td>\n",
              "    </tr>\n",
              "    <tr>\n",
              "      <th>96</th>\n",
              "      <td>2004-02-28</td>\n",
              "      <td>01:08:45.992620</td>\n",
              "      <td>24447</td>\n",
              "      <td>97</td>\n",
              "      <td>31.4152</td>\n",
              "      <td>26.71600</td>\n",
              "      <td>1847.36</td>\n",
              "      <td>2.69964</td>\n",
              "    </tr>\n",
              "    <tr>\n",
              "      <th>97</th>\n",
              "      <td>2004-02-28</td>\n",
              "      <td>01:08:45.992621</td>\n",
              "      <td>24448</td>\n",
              "      <td>98</td>\n",
              "      <td>31.4446</td>\n",
              "      <td>26.75200</td>\n",
              "      <td>1847.36</td>\n",
              "      <td>2.69964</td>\n",
              "    </tr>\n",
              "    <tr>\n",
              "      <th>98</th>\n",
              "      <td>2004-02-28</td>\n",
              "      <td>01:08:45.992622</td>\n",
              "      <td>24449</td>\n",
              "      <td>99</td>\n",
              "      <td>31.5132</td>\n",
              "      <td>26.60800</td>\n",
              "      <td>1847.36</td>\n",
              "      <td>2.69964</td>\n",
              "    </tr>\n",
              "    <tr>\n",
              "      <th>99</th>\n",
              "      <td>2004-02-28</td>\n",
              "      <td>01:08:45.992622</td>\n",
              "      <td>24449</td>\n",
              "      <td>100</td>\n",
              "      <td>30.4170</td>\n",
              "      <td>26.60800</td>\n",
              "      <td>1847.36</td>\n",
              "      <td>2.69964</td>\n",
              "    </tr>\n",
              "  </tbody>\n",
              "</table>\n",
              "</div>"
            ],
            "text/plain": [
              "          DATE             TIME  EPOCH  NODEID  TEMPERATURE  HUMIDITY  \\\n",
              "11  2004-02-28  01:08:45.992535  32704      12      19.5376  49.09690   \n",
              "25  2004-02-28  01:08:45.992549  45216      26     102.1530  -3.83804   \n",
              "26  2004-02-28  01:08:45.992550  45217      27      20.7332  49.74240   \n",
              "27  2004-02-28  01:08:45.992551  45218      28      20.6940  49.41990   \n",
              "36  2004-02-28  01:08:45.992560  46382      37     122.1530  -3.91901   \n",
              "38  2004-02-28  01:08:45.992562  46384      39     122.1530  -3.91901   \n",
              "39  2004-02-28  01:08:45.992563  46385      40     122.1530  -3.91901   \n",
              "52  2004-02-28  01:08:45.992576  11563      53      19.3612  29.72050   \n",
              "53  2004-02-28  01:08:45.992577  11564      54      19.3612  29.79160   \n",
              "54  2004-02-28  01:08:45.992578  11565      55      19.3514  29.75610   \n",
              "55  2004-02-28  01:08:45.992579  11566      56      19.3612  29.68500   \n",
              "56  2004-02-28  01:08:45.992580  38233      57      16.8426  53.66350   \n",
              "57  2004-02-28  01:08:45.992581  38234      58      16.8916  53.47420   \n",
              "58  2004-02-28  01:08:45.992582  38235      59      16.9112  53.50580   \n",
              "59  2004-02-28  01:08:45.992583  38236      60      17.1072  52.93680   \n",
              "60  2004-02-28  01:08:45.992584  38237      61      17.1464  52.74670   \n",
              "61  2004-02-28  01:08:45.992585  38238      62      17.1758  52.68330   \n",
              "62  2004-02-28  01:08:45.992586  38240      63      17.3130  52.23880   \n",
              "63  2004-02-28  01:08:45.992587  38242      64      17.4502  51.88880   \n",
              "76  2004-02-28  01:08:45.992600  12919      77      25.0550  28.18750   \n",
              "77  2004-02-28  01:08:45.992601  12921      78      25.0354  28.33050   \n",
              "78  2004-02-28  01:08:45.992602  12923      79      25.0452  28.25900   \n",
              "79  2004-02-28  01:08:45.992603  12924      80      25.0354  28.29480   \n",
              "80  2004-02-28  01:08:45.992604   2966      81      36.5210  16.60340   \n",
              "85  2004-02-28  01:08:45.992609  41117      86     122.1530  35.36870   \n",
              "92  2004-02-28  01:08:45.992616  30659      93     122.1530  54.88910   \n",
              "94  2004-02-28  01:08:45.992618  30660      95     122.1530  54.85780   \n",
              "96  2004-02-28  01:08:45.992620  24447      97      31.4152  26.71600   \n",
              "97  2004-02-28  01:08:45.992621  24448      98      31.4446  26.75200   \n",
              "98  2004-02-28  01:08:45.992622  24449      99      31.5132  26.60800   \n",
              "99  2004-02-28  01:08:45.992622  24449     100      30.4170  26.60800   \n",
              "\n",
              "      LIGHT  VOLTAGE  \n",
              "11     1.84  2.32000  \n",
              "25   217.12  2.19970  \n",
              "26    90.16  2.49546  \n",
              "27    90.16  2.50599  \n",
              "36    11.04  2.18353  \n",
              "38    11.04  2.18353  \n",
              "39    11.04  2.18353  \n",
              "52    93.84  2.66332  \n",
              "53    93.84  2.66332  \n",
              "54    93.84  2.66332  \n",
              "55    93.84  2.67532  \n",
              "56  1847.36  2.42416  \n",
              "57  1847.36  2.42416  \n",
              "58  1847.36  2.43410  \n",
              "59  1847.36  2.43410  \n",
              "60  1847.36  2.43410  \n",
              "61  1847.36  2.42416  \n",
              "62  1847.36  2.43410  \n",
              "63  1847.36  2.43410  \n",
              "76   684.48  2.69964  \n",
              "77   713.92  2.71196  \n",
              "78   713.92  2.71196  \n",
              "79   713.92  2.71196  \n",
              "80   309.12  2.65143  \n",
              "85    41.40  2.17553  \n",
              "92   441.60  2.31097  \n",
              "94   397.44  2.31097  \n",
              "96  1847.36  2.69964  \n",
              "97  1847.36  2.69964  \n",
              "98  1847.36  2.69964  \n",
              "99  1847.36  2.69964  "
            ]
          },
          "execution_count": 107,
          "metadata": {},
          "output_type": "execute_result"
        }
      ],
      "source": [
        "outliers_df"
      ]
    },
    {
      "cell_type": "code",
      "execution_count": 108,
      "metadata": {},
      "outputs": [
        {
          "name": "stdout",
          "output_type": "stream",
          "text": [
            "Nodes[11],Nodes[25],Nodes[26],Nodes[27],Nodes[36],Nodes[38],Nodes[39],Nodes[52],Nodes[53],Nodes[54],Nodes[55],Nodes[56],Nodes[57],Nodes[58],Nodes[59],Nodes[60],Nodes[61],Nodes[62],Nodes[63],Nodes[76],Nodes[77],Nodes[78],Nodes[79],Nodes[80],Nodes[85],Nodes[92],Nodes[94],Nodes[96],Nodes[97],Nodes[98],Nodes[99]"
          ]
        }
      ],
      "source": [
        "ls = list(outliers_df['NODEID'])\n",
        "for i in range(0,len(outliers_df)):\n",
        "  if(i != len(outliers_df)-1):\n",
        "    print(\"Nodes[{}]\".format(ls[i]-1),end=\",\")\n",
        "  else:\n",
        "    print(\"Nodes[{}]\".format(ls[i]-1),end=\"\")"
      ]
    },
    {
      "cell_type": "code",
      "execution_count": 109,
      "metadata": {},
      "outputs": [
        {
          "name": "stdout",
          "output_type": "stream",
          "text": [
            "[10, 24, 25, 26, 35, 37, 38, 51, 52, 53, 54, 55, 56, 57, 58, 59, 60, 61, 62, 75, 76, 77, 78, 79, 84, 91, 93, 95, 96, 97, 98]\n"
          ]
        }
      ],
      "source": [
        "for i in range(0,len(ls)):\n",
        "    ls[i] = ls[i]-2\n",
        "print(ls)\n"
      ]
    },
    {
      "cell_type": "code",
      "execution_count": 110,
      "metadata": {},
      "outputs": [
        {
          "name": "stdout",
          "output_type": "stream",
          "text": [
            "[1, 1, 1, 1, 1, 1, 1, 1, 1, 1, 0, 1, 1, 1, 1, 1, 1, 1, 1, 1, 1, 1, 1, 1, 0, 0, 0, 1, 1, 1, 1, 1, 1, 1, 1, 0, 1, 0, 0, 1, 1, 1, 1, 1, 1, 1, 1, 1, 1, 1, 1, 0, 0, 0, 0, 0, 0, 0, 0, 0, 0, 0, 0, 1, 1, 1, 1, 1, 1, 1, 1, 1, 1, 1, 1, 0, 0, 0, 0, 0, 1, 1, 1, 1, 0, 1, 1, 1, 1, 1, 1, 0, 1, 0, 1, 0, 0, 0, 0, 1]\n"
          ]
        }
      ],
      "source": [
        "Anomalies_list = [1 for i in range(0,100)]\n",
        "for i in range(0,100):\n",
        "    if i in ls:\n",
        "        Anomalies_list[i] = 0\n",
        "#print(len(Anomalies_list))\n",
        "print(Anomalies_list)"
      ]
    },
    {
      "cell_type": "code",
      "execution_count": 111,
      "metadata": {
        "colab": {
          "base_uri": "https://localhost:8080/"
        },
        "id": "jBGmG_RFhe6T",
        "outputId": "123e5432-a40e-463f-fe2b-740035ebfb80"
      },
      "outputs": [
        {
          "name": "stdout",
          "output_type": "stream",
          "text": [
            "<class 'pandas.core.frame.DataFrame'>\n",
            "Int64Index: 31 entries, 11 to 99\n",
            "Data columns (total 8 columns):\n",
            " #   Column       Non-Null Count  Dtype  \n",
            "---  ------       --------------  -----  \n",
            " 0   DATE         31 non-null     object \n",
            " 1   TIME         31 non-null     object \n",
            " 2   EPOCH        31 non-null     int64  \n",
            " 3   NODEID       31 non-null     int64  \n",
            " 4   TEMPERATURE  31 non-null     float64\n",
            " 5   HUMIDITY     31 non-null     float64\n",
            " 6   LIGHT        31 non-null     float64\n",
            " 7   VOLTAGE      31 non-null     float64\n",
            "dtypes: float64(4), int64(2), object(2)\n",
            "memory usage: 2.2+ KB\n"
          ]
        }
      ],
      "source": [
        "outliers_df.info()"
      ]
    },
    {
      "cell_type": "code",
      "execution_count": 112,
      "metadata": {
        "colab": {
          "base_uri": "https://localhost:8080/"
        },
        "id": "TELYHVkdhjXp",
        "outputId": "9e4f23ca-8a45-433c-9dc1-0aada799e4ca"
      },
      "outputs": [
        {
          "name": "stdout",
          "output_type": "stream",
          "text": [
            "<class 'pandas.core.frame.DataFrame'>\n",
            "Int64Index: 69 entries, 0 to 95\n",
            "Data columns (total 8 columns):\n",
            " #   Column       Non-Null Count  Dtype  \n",
            "---  ------       --------------  -----  \n",
            " 0   DATE         69 non-null     object \n",
            " 1   TIME         69 non-null     object \n",
            " 2   EPOCH        69 non-null     int64  \n",
            " 3   NODEID       69 non-null     int64  \n",
            " 4   TEMPERATURE  69 non-null     float64\n",
            " 5   HUMIDITY     69 non-null     float64\n",
            " 6   LIGHT        69 non-null     float64\n",
            " 7   VOLTAGE      69 non-null     float64\n",
            "dtypes: float64(4), int64(2), object(2)\n",
            "memory usage: 4.9+ KB\n"
          ]
        }
      ],
      "source": [
        "clusters_df.info()"
      ]
    },
    {
      "cell_type": "code",
      "execution_count": 113,
      "metadata": {
        "id": "3cFBmborhoDq"
      },
      "outputs": [],
      "source": [
        "colors = model.predict(X)\n",
        "colors_clusters = colors[colors != -1]\n",
        "colors_outliers = 'yellow' # for outliers set yellow color"
      ]
    },
    {
      "cell_type": "markdown",
      "metadata": {
        "id": "Ho_hcHC8h0t9"
      },
      "source": [
        "# Core Points, Number of Clusters\n"
      ]
    },
    {
      "cell_type": "code",
      "execution_count": 114,
      "metadata": {
        "colab": {
          "base_uri": "https://localhost:8080/"
        },
        "id": "SCDNusqAhwEf",
        "outputId": "de593a5a-315f-4a41-d617-c04a00c4f3f7"
      },
      "outputs": [
        {
          "name": "stdout",
          "output_type": "stream",
          "text": [
            "Counter({1: 69, -1: 31})\n",
            "          DATE             TIME  EPOCH  NODEID  TEMPERATURE  HUMIDITY   LIGHT  \\\n",
            "11  2004-02-28  01:08:45.992535  32704      12      19.5376  49.09690    1.84   \n",
            "25  2004-02-28  01:08:45.992549  45216      26     102.1530  -3.83804  217.12   \n",
            "26  2004-02-28  01:08:45.992550  45217      27      20.7332  49.74240   90.16   \n",
            "27  2004-02-28  01:08:45.992551  45218      28      20.6940  49.41990   90.16   \n",
            "36  2004-02-28  01:08:45.992560  46382      37     122.1530  -3.91901   11.04   \n",
            "38  2004-02-28  01:08:45.992562  46384      39     122.1530  -3.91901   11.04   \n",
            "39  2004-02-28  01:08:45.992563  46385      40     122.1530  -3.91901   11.04   \n",
            "52  2004-02-28  01:08:45.992576  11563      53      19.3612  29.72050   93.84   \n",
            "53  2004-02-28  01:08:45.992577  11564      54      19.3612  29.79160   93.84   \n",
            "54  2004-02-28  01:08:45.992578  11565      55      19.3514  29.75610   93.84   \n",
            "\n",
            "    VOLTAGE  \n",
            "11  2.32000  \n",
            "25  2.19970  \n",
            "26  2.49546  \n",
            "27  2.50599  \n",
            "36  2.18353  \n",
            "38  2.18353  \n",
            "39  2.18353  \n",
            "52  2.66332  \n",
            "53  2.66332  \n",
            "54  2.66332  \n",
            "Number of clusters = 1\n"
          ]
        }
      ],
      "source": [
        "#Get the info about clusters\n",
        "clusters = Counter(model.predict(X))\n",
        "print(clusters)\n",
        "print(df[model.predict(X) == -1].head(10))\n",
        "print('Number of clusters = {}'.format(len(clusters)-1))"
      ]
    },
    {
      "cell_type": "code",
      "execution_count": 115,
      "metadata": {
        "colab": {
          "base_uri": "https://localhost:8080/"
        },
        "id": "rxWtFAm3h9Q2",
        "outputId": "6e7cbf20-63d1-444b-baf0-982ce6391bed"
      },
      "outputs": [
        {
          "data": {
            "text/plain": [
              "Index(['DATE', 'TIME', 'EPOCH', 'NODEID', 'TEMPERATURE', 'HUMIDITY', 'LIGHT',\n",
              "       'VOLTAGE'],\n",
              "      dtype='object')"
            ]
          },
          "execution_count": 115,
          "metadata": {},
          "output_type": "execute_result"
        }
      ],
      "source": [
        "df.columns"
      ]
    },
    {
      "cell_type": "code",
      "execution_count": 116,
      "metadata": {
        "colab": {
          "base_uri": "https://localhost:8080/",
          "height": 680
        },
        "id": "WEd9T6iJiHEc",
        "outputId": "f1c3d10b-47ee-42d5-d72b-9adab444a5f1"
      },
      "outputs": [
        {
          "data": {
            "image/png": "[encoded data removed]",
            "text/plain": [
              "<Figure size 1080x720 with 1 Axes>"
            ]
          },
          "metadata": {
            "needs_background": "light"
          },
          "output_type": "display_data"
        }
      ],
      "source": [
        "# Black Point shows the Outliers\n",
        "fig = plt.figure(figsize=(15,10))\n",
        "ax = fig.add_axes([.1,.1,1,1])\n",
        "\n",
        "ax.scatter(clusters_df['TEMPERATURE'], clusters_df['HUMIDITY'],\n",
        "           c = colors_clusters, edgecolors='black', s=50,label = \"Cluster\")\n",
        "ax.scatter(outliers_df['TEMPERATURE'], outliers_df['HUMIDITY'],\n",
        "           c = colors_outliers, edgecolors='black', s=50,label = \"Outlier(Anomaly)\")\n",
        "\n",
        "ax.set_xlabel('TEMPERATURE', fontsize=20)\n",
        "ax.set_ylabel('HUMIDITY', fontsize=20) \n",
        "\n",
        "#plt.title('WSN Outlier Detection by DBSCAN algorithm', fontsize=25)\n",
        "\n",
        "plt.grid(which='major', color='#cccccc', alpha = 0.45)\n",
        "plt.legend()\n",
        "plt.show()"
      ]
    },
    {
      "cell_type": "markdown",
      "metadata": {
        "id": "aHIX-4DgrMZX"
      },
      "source": [
        "## Data Transmission after Anomaly Detection\n",
        "for data transmission, we have to basically transfer the message signal to the base station.\n",
        "For that we have to consider all type of energies that are dissipated during transmission.\n",
        "\n",
        "1.   Transmitter Circuitry Energy ( Etx)\n",
        "2.   Receiver Circuitry Energy ( Erx)\n",
        "3.   Amplification Energy( Eamp)\n",
        "\n",
        "---\n",
        "We consider followinfg initial energy of each node.\n",
        "\n",
        "\n",
        "1.   Transmission - 50nj/bit\n",
        "2.   Receiving - 50nj/bit\n",
        "3.   Amplification - 100pj/bit/m^2\n"
      ]
    },
    {
      "cell_type": "code",
      "execution_count": 118,
      "metadata": {
        "id": "oY89Ve2drL4D"
      },
      "outputs": [
        {
          "ename": "IndentationError",
          "evalue": "unindent does not match any outer indentation level (<tokenize>, line 8)",
          "output_type": "error",
          "traceback": [
            "\u001b[0;36m  File \u001b[0;32m\"<tokenize>\"\u001b[0;36m, line \u001b[0;32m8\u001b[0m\n\u001b[0;31m    [ 0, 12,  1],\u001b[0m\n\u001b[0m    ^\u001b[0m\n\u001b[0;31mIndentationError\u001b[0m\u001b[0;31m:\u001b[0m unindent does not match any outer indentation level\n"
          ]
        }
      ],
      "source": [
        "# Node Class\n",
        "class Node:\n",
        "    def __init__(self):\n",
        "        self.position = {\n",
        "            'x': None,\n",
        "            'y': None\n",
        "        }[11,  0,  0],\n",
        "       [ 0, 12,  1],\n",
        "       [ 0,  0, 14]\n",
        "        self.is_CH = False\n",
        "        self.power = 0.75\n",
        "        self.is_dead = False\n",
        "        self.last_CH_round = None\n",
        "        self.closest_CH = {\n",
        "            'node_id': None,\n",
        "            'dist': None\n",
        "        }"
      ]
    },
    {
      "cell_type": "code",
      "execution_count": null,
      "metadata": {
        "colab": {
          "base_uri": "https://localhost:8080/"
        },
        "id": "JKlgHThvQf0c",
        "outputId": "d7dd4b22-8bef-453e-83a8-5abf58796624"
      },
      "outputs": [],
      "source": [
        "# Network class\n",
        "class Network:\n",
        "    def __init__(self):\n",
        "        self.dimentions = {\n",
        "            'x': 100,\n",
        "            'y': 100\n",
        "        }\n",
        "        self.no_of_nodes = 100\n",
        "        self.percentage_CH = 0.05 # percentage of nodes to become CH in each round\n",
        "        self.nodes = [Node() for i in range(self.no_of_nodes)]\n",
        "        self.current_round_number = 0\n",
        "        for i in range(self.no_of_nodes):"
      ]
    },
    {
      "cell_type": "code",
      "execution_count": null,
      "metadata": {
        "colab": {
          "base_uri": "https://localhost:8080/",
          "height": 1000
        },
        "id": "IHmdCO13O0i0",
        "outputId": "4326e236-4b87-4da1-b6c7-6eeacb51189b"
      },
      "outputs": [],
      "source": [
        "from sklearn.neighbors import NearestNeighbors\n",
        "neighbors = NearestNeighbors(n_neighbors=4)\n",
        "neighbors_fit = neighbors.fit(X)\n",
        "distances, indices = neighbors_fit.kneighbors(X)\n",
        "distances = np.sort(distances, axis=0)\n",
        "print(distances[0:50])\n",
        "distances = distances[:,3]\n",
        "plt.plot(distances)\n",
        "plt.show()"
      ]
    },
    {
      "cell_type": "code",
      "execution_count": null,
      "metadata": {
        "id": "7epdI8OjtBpb"
      },
      "outputs": [],
      "source": [
        "model.fit_predict"
      ]
    },
    {
      "cell_type": "code",
      "execution_count": null,
      "metadata": {
        "colab": {
          "base_uri": "https://localhost:8080/"
        },
        "id": "-vOQ42E5fvuX",
        "outputId": "af1da2b3-25c1-4cb8-d5dc-1b0002463d05"
      },
      "outputs": [],
      "source": [
        "!pip install kneed"
      ]
    },
    {
      "cell_type": "code",
      "execution_count": null,
      "metadata": {
        "id": "1_B7QOLRgZ3g"
      },
      "outputs": [],
      "source": [
        "y = distances\n",
        "x = range(0, len(y))"
      ]
    },
    {
      "cell_type": "code",
      "execution_count": null,
      "metadata": {
        "colab": {
          "base_uri": "https://localhost:8080/",
          "height": 318
        },
        "id": "G1KdKh_RfxXs",
        "outputId": "61704d30-2621-475c-aa7b-8709123f36f7"
      },
      "outputs": [],
      "source": [
        "from kneed import KneeLocator\n",
        "kn = KneeLocator(x, y, curve='convex', direction='decreasing')\n",
        "print(kn.knee)\n",
        "\n",
        "import matplotlib.pyplot as plt\n",
        "plt.xlabel('TEMPERATURE')\n",
        "plt.ylabel('HUMMIDITY')\n",
        "plt.plot(x, y, 'bx-')\n",
        "plt.vlines(kn.knee, plt.ylim()[0], plt.ylim()[1], linestyles='dashed')"
      ]
    },
    {
      "cell_type": "code",
      "execution_count": null,
      "metadata": {
        "id": "r-rGA6f4gfYj"
      },
      "outputs": [],
      "source": []
    }
  ],
  "metadata": {
    "colab": {
      "collapsed_sections": [],
      "name": "DBSCAN_WSN.ipynb",
      "provenance": [],
      "toc_visible": true
    },
    "kernelspec": {
      "display_name": "Python 3",
      "name": "python3"
    },
    "language_info": {
      "codemirror_mode": {
        "name": "ipython",
        "version": 3
      },
      "file_extension": ".py",
      "mimetype": "text/x-python",
      "name": "python",
      "nbconvert_exporter": "python",
      "pygments_lexer": "ipython3",
      "version": "3.8.10"
    }
  },
  "nbformat": 4,
  "nbformat_minor": 0
}
