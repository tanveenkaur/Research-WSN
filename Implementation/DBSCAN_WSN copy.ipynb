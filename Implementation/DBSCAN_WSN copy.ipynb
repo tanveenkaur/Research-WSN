{
  "cells": [
    {
      "cell_type": "markdown",
      "metadata": {
        "id": "ViogHL0bnpdj"
      },
      "source": [
        "# Anomaly Detection in Wireless Sensor Network using DBSCAN Algorithm\n",
        "# Dataset = Intel Berkley Research Lab Sensor Data\n",
        "[Click Me for Dataset](https://www.kaggle.com/divyansh22/intel-berkeley-research-lab-sensor-data)"
      ]
    },
    {
      "cell_type": "markdown",
      "metadata": {
        "id": "Hap0PRuOom04"
      },
      "source": [
        "# About DBSCAN\n",
        "Density-Based Clustering refers to unsupervised learning methods that identify distinctive groups/clusters in the data, based on the idea that a cluster in data space is a contiguous region of high point density, separated from other such clusters by contiguous regions of low point density.\n",
        "\n",
        "Density-Based Spatial Clustering of Applications with Noise (DBSCAN) is a base algorithm for density-based clustering. It can discover clusters of different shapes and sizes from a large amount of data, which is containing noise and outliers.\n",
        "\n",
        "The DBSCAN algorithm uses two parameters:\n",
        "\n",
        "minPts: The minimum number of points (a threshold) clustered together for a region to be considered dense.\n",
        "eps (ε): A distance measure that will be used to locate the points in the neighborhood of any point.\n"
      ]
    },
    {
      "cell_type": "code",
      "execution_count": 39,
      "metadata": {
        "id": "ztWmFLysQAxt"
      },
      "outputs": [],
      "source": [
        "# Importing the Necessary Libraries\n",
        "import numpy as np\n",
        "import pandas as pd\n",
        "import matplotlib.pyplot as plt\n",
        "from collections import Counter\n",
        "from sklearn.cluster import DBSCAN\n",
        "from sklearn import metrics\n",
        "from pylab import rcParams\n"
      ]
    },
    {
      "cell_type": "markdown",
      "metadata": {
        "id": "lhyoAEC8VLir"
      },
      "source": [
        "##About the Dataset\n",
        "This file includes a log of about 10000 million readings collected from the 54 sensors installed in the lab. There are 8 columns in this csv file and the columns included are date:yyyy-mm-dd, time:hh:mm:ss.xxx, epoch:int, moteid:int, temperature:real, humidity:real, light:real, voltage:real.\n",
        "\n",
        "\n",
        "Epoch is a monotonically increasing sequence number from each mote. Two readings from the same epoch number were produced from different motes at the same time. There are some missing epochs in this data set. \n",
        "\n",
        "Moteids range from 1-54; data from some motes may be missing or truncated. \n",
        "\n",
        "Temperature is in degrees Celsius. \n",
        "\n",
        "Humidity is temperature corrected relative humidity, ranging from 0-100%. \n",
        "\n",
        "Light is in Lux (a value of 1 Lux corresponds to moonlight, 400 Lux to a bright office, and 100,000 Lux to full sunlight.) \n",
        "\n",
        "Voltage is expressed in volts, ranging from 2-3; the batteries, in this case, were lithium-ion cells that maintain a fairly constant voltage over their lifetime; note that variations in voltage are highly correlated with temperature."
      ]
    },
    {
      "cell_type": "code",
      "execution_count": 40,
      "metadata": {
        "colab": {
          "base_uri": "https://localhost:8080/",
          "height": 424
        },
        "id": "iqEvHyrdgrr4",
        "outputId": "29f30e8c-bf4f-4a8a-cc00-fe38ed1105e7"
      },
      "outputs": [
        {
          "data": {
            "text/html": [
              "<div>\n",
              "<style scoped>\n",
              "    .dataframe tbody tr th:only-of-type {\n",
              "        vertical-align: middle;\n",
              "    }\n",
              "\n",
              "    .dataframe tbody tr th {\n",
              "        vertical-align: top;\n",
              "    }\n",
              "\n",
              "    .dataframe thead th {\n",
              "        text-align: right;\n",
              "    }\n",
              "</style>\n",
              "<table border=\"1\" class=\"dataframe\">\n",
              "  <thead>\n",
              "    <tr style=\"text-align: right;\">\n",
              "      <th></th>\n",
              "      <th>Unnamed: 0</th>\n",
              "      <th>NODEID</th>\n",
              "      <th>x_coord</th>\n",
              "      <th>y_coord</th>\n",
              "      <th>FCH</th>\n",
              "      <th>CH</th>\n",
              "      <th>ClusterNumber</th>\n",
              "    </tr>\n",
              "  </thead>\n",
              "  <tbody>\n",
              "    <tr>\n",
              "      <th>0</th>\n",
              "      <td>0</td>\n",
              "      <td>0</td>\n",
              "      <td>10</td>\n",
              "      <td>7</td>\n",
              "      <td>-1.000000</td>\n",
              "      <td>0</td>\n",
              "      <td>-1</td>\n",
              "    </tr>\n",
              "    <tr>\n",
              "      <th>1</th>\n",
              "      <td>1</td>\n",
              "      <td>1</td>\n",
              "      <td>37</td>\n",
              "      <td>73</td>\n",
              "      <td>-1.000000</td>\n",
              "      <td>0</td>\n",
              "      <td>-1</td>\n",
              "    </tr>\n",
              "    <tr>\n",
              "      <th>2</th>\n",
              "      <td>2</td>\n",
              "      <td>2</td>\n",
              "      <td>87</td>\n",
              "      <td>8</td>\n",
              "      <td>-1.000000</td>\n",
              "      <td>0</td>\n",
              "      <td>-1</td>\n",
              "    </tr>\n",
              "    <tr>\n",
              "      <th>3</th>\n",
              "      <td>3</td>\n",
              "      <td>3</td>\n",
              "      <td>8</td>\n",
              "      <td>96</td>\n",
              "      <td>0.998858</td>\n",
              "      <td>1</td>\n",
              "      <td>0</td>\n",
              "    </tr>\n",
              "    <tr>\n",
              "      <th>4</th>\n",
              "      <td>4</td>\n",
              "      <td>4</td>\n",
              "      <td>8</td>\n",
              "      <td>57</td>\n",
              "      <td>-1.000000</td>\n",
              "      <td>0</td>\n",
              "      <td>-1</td>\n",
              "    </tr>\n",
              "    <tr>\n",
              "      <th>...</th>\n",
              "      <td>...</td>\n",
              "      <td>...</td>\n",
              "      <td>...</td>\n",
              "      <td>...</td>\n",
              "      <td>...</td>\n",
              "      <td>...</td>\n",
              "      <td>...</td>\n",
              "    </tr>\n",
              "    <tr>\n",
              "      <th>95</th>\n",
              "      <td>95</td>\n",
              "      <td>95</td>\n",
              "      <td>34</td>\n",
              "      <td>78</td>\n",
              "      <td>-1.000000</td>\n",
              "      <td>0</td>\n",
              "      <td>-1</td>\n",
              "    </tr>\n",
              "    <tr>\n",
              "      <th>96</th>\n",
              "      <td>96</td>\n",
              "      <td>96</td>\n",
              "      <td>50</td>\n",
              "      <td>3</td>\n",
              "      <td>-1.000000</td>\n",
              "      <td>0</td>\n",
              "      <td>-1</td>\n",
              "    </tr>\n",
              "    <tr>\n",
              "      <th>97</th>\n",
              "      <td>97</td>\n",
              "      <td>97</td>\n",
              "      <td>38</td>\n",
              "      <td>16</td>\n",
              "      <td>-1.000000</td>\n",
              "      <td>0</td>\n",
              "      <td>-1</td>\n",
              "    </tr>\n",
              "    <tr>\n",
              "      <th>98</th>\n",
              "      <td>98</td>\n",
              "      <td>98</td>\n",
              "      <td>31</td>\n",
              "      <td>64</td>\n",
              "      <td>-1.000000</td>\n",
              "      <td>0</td>\n",
              "      <td>-1</td>\n",
              "    </tr>\n",
              "    <tr>\n",
              "      <th>99</th>\n",
              "      <td>99</td>\n",
              "      <td>99</td>\n",
              "      <td>42</td>\n",
              "      <td>96</td>\n",
              "      <td>0.849063</td>\n",
              "      <td>0</td>\n",
              "      <td>1</td>\n",
              "    </tr>\n",
              "  </tbody>\n",
              "</table>\n",
              "<p>100 rows × 7 columns</p>\n",
              "</div>"
            ],
            "text/plain": [
              "    Unnamed: 0  NODEID  x_coord  y_coord       FCH  CH  ClusterNumber\n",
              "0            0       0       10        7 -1.000000   0             -1\n",
              "1            1       1       37       73 -1.000000   0             -1\n",
              "2            2       2       87        8 -1.000000   0             -1\n",
              "3            3       3        8       96  0.998858   1              0\n",
              "4            4       4        8       57 -1.000000   0             -1\n",
              "..         ...     ...      ...      ...       ...  ..            ...\n",
              "95          95      95       34       78 -1.000000   0             -1\n",
              "96          96      96       50        3 -1.000000   0             -1\n",
              "97          97      97       38       16 -1.000000   0             -1\n",
              "98          98      98       31       64 -1.000000   0             -1\n",
              "99          99      99       42       96  0.849063   0              1\n",
              "\n",
              "[100 rows x 7 columns]"
            ]
          },
          "execution_count": 40,
          "metadata": {},
          "output_type": "execute_result"
        }
      ],
      "source": [
        "# Reading the Data\n",
        "df = pd.read_csv(\"ClusteredData.csv\")\n",
        "df.head(100)"
      ]
    },
    {
      "cell_type": "markdown",
      "metadata": {
        "id": "RLVdi74spivi"
      },
      "source": [
        "# Info about the Data"
      ]
    },
    {
      "cell_type": "code",
      "execution_count": 41,
      "metadata": {
        "colab": {
          "base_uri": "https://localhost:8080/",
          "height": 300
        },
        "id": "xzAxzlfVg8zn",
        "outputId": "664c9044-3e5a-4c63-a2d1-d73dd1aec37e"
      },
      "outputs": [
        {
          "data": {
            "text/html": [
              "<div>\n",
              "<style scoped>\n",
              "    .dataframe tbody tr th:only-of-type {\n",
              "        vertical-align: middle;\n",
              "    }\n",
              "\n",
              "    .dataframe tbody tr th {\n",
              "        vertical-align: top;\n",
              "    }\n",
              "\n",
              "    .dataframe thead th {\n",
              "        text-align: right;\n",
              "    }\n",
              "</style>\n",
              "<table border=\"1\" class=\"dataframe\">\n",
              "  <thead>\n",
              "    <tr style=\"text-align: right;\">\n",
              "      <th></th>\n",
              "      <th>Unnamed: 0</th>\n",
              "      <th>NODEID</th>\n",
              "      <th>x_coord</th>\n",
              "      <th>y_coord</th>\n",
              "      <th>FCH</th>\n",
              "      <th>CH</th>\n",
              "      <th>ClusterNumber</th>\n",
              "    </tr>\n",
              "  </thead>\n",
              "  <tbody>\n",
              "    <tr>\n",
              "      <th>count</th>\n",
              "      <td>100.000000</td>\n",
              "      <td>100.000000</td>\n",
              "      <td>100.000000</td>\n",
              "      <td>100.000000</td>\n",
              "      <td>100.000000</td>\n",
              "      <td>100.00000</td>\n",
              "      <td>100.000000</td>\n",
              "    </tr>\n",
              "    <tr>\n",
              "      <th>mean</th>\n",
              "      <td>49.500000</td>\n",
              "      <td>49.500000</td>\n",
              "      <td>50.390000</td>\n",
              "      <td>47.750000</td>\n",
              "      <td>-0.384951</td>\n",
              "      <td>0.08000</td>\n",
              "      <td>0.490000</td>\n",
              "    </tr>\n",
              "    <tr>\n",
              "      <th>std</th>\n",
              "      <td>29.011492</td>\n",
              "      <td>29.011492</td>\n",
              "      <td>28.895806</td>\n",
              "      <td>28.090897</td>\n",
              "      <td>0.881176</td>\n",
              "      <td>0.27266</td>\n",
              "      <td>2.694907</td>\n",
              "    </tr>\n",
              "    <tr>\n",
              "      <th>min</th>\n",
              "      <td>0.000000</td>\n",
              "      <td>0.000000</td>\n",
              "      <td>2.000000</td>\n",
              "      <td>3.000000</td>\n",
              "      <td>-1.000000</td>\n",
              "      <td>0.00000</td>\n",
              "      <td>-1.000000</td>\n",
              "    </tr>\n",
              "    <tr>\n",
              "      <th>25%</th>\n",
              "      <td>24.750000</td>\n",
              "      <td>24.750000</td>\n",
              "      <td>27.750000</td>\n",
              "      <td>23.000000</td>\n",
              "      <td>-1.000000</td>\n",
              "      <td>0.00000</td>\n",
              "      <td>-1.000000</td>\n",
              "    </tr>\n",
              "    <tr>\n",
              "      <th>50%</th>\n",
              "      <td>49.500000</td>\n",
              "      <td>49.500000</td>\n",
              "      <td>47.000000</td>\n",
              "      <td>49.500000</td>\n",
              "      <td>-1.000000</td>\n",
              "      <td>0.00000</td>\n",
              "      <td>-1.000000</td>\n",
              "    </tr>\n",
              "    <tr>\n",
              "      <th>75%</th>\n",
              "      <td>74.250000</td>\n",
              "      <td>74.250000</td>\n",
              "      <td>74.250000</td>\n",
              "      <td>71.000000</td>\n",
              "      <td>0.826494</td>\n",
              "      <td>0.00000</td>\n",
              "      <td>0.250000</td>\n",
              "    </tr>\n",
              "    <tr>\n",
              "      <th>max</th>\n",
              "      <td>99.000000</td>\n",
              "      <td>99.000000</td>\n",
              "      <td>100.000000</td>\n",
              "      <td>100.000000</td>\n",
              "      <td>0.998858</td>\n",
              "      <td>1.00000</td>\n",
              "      <td>8.000000</td>\n",
              "    </tr>\n",
              "  </tbody>\n",
              "</table>\n",
              "</div>"
            ],
            "text/plain": [
              "       Unnamed: 0      NODEID     x_coord     y_coord         FCH         CH  \\\n",
              "count  100.000000  100.000000  100.000000  100.000000  100.000000  100.00000   \n",
              "mean    49.500000   49.500000   50.390000   47.750000   -0.384951    0.08000   \n",
              "std     29.011492   29.011492   28.895806   28.090897    0.881176    0.27266   \n",
              "min      0.000000    0.000000    2.000000    3.000000   -1.000000    0.00000   \n",
              "25%     24.750000   24.750000   27.750000   23.000000   -1.000000    0.00000   \n",
              "50%     49.500000   49.500000   47.000000   49.500000   -1.000000    0.00000   \n",
              "75%     74.250000   74.250000   74.250000   71.000000    0.826494    0.00000   \n",
              "max     99.000000   99.000000  100.000000  100.000000    0.998858    1.00000   \n",
              "\n",
              "       ClusterNumber  \n",
              "count     100.000000  \n",
              "mean        0.490000  \n",
              "std         2.694907  \n",
              "min        -1.000000  \n",
              "25%        -1.000000  \n",
              "50%        -1.000000  \n",
              "75%         0.250000  \n",
              "max         8.000000  "
            ]
          },
          "execution_count": 41,
          "metadata": {},
          "output_type": "execute_result"
        }
      ],
      "source": [
        "df.describe()"
      ]
    },
    {
      "cell_type": "code",
      "execution_count": 42,
      "metadata": {
        "colab": {
          "base_uri": "https://localhost:8080/"
        },
        "id": "-0v5iGAAhKV-",
        "outputId": "42a75134-459c-4968-f11d-3f4af02c8bc8"
      },
      "outputs": [
        {
          "name": "stdout",
          "output_type": "stream",
          "text": [
            "<class 'pandas.core.frame.DataFrame'>\n",
            "RangeIndex: 100 entries, 0 to 99\n",
            "Data columns (total 7 columns):\n",
            " #   Column         Non-Null Count  Dtype  \n",
            "---  ------         --------------  -----  \n",
            " 0   Unnamed: 0     100 non-null    int64  \n",
            " 1   NODEID         100 non-null    int64  \n",
            " 2   x_coord        100 non-null    int64  \n",
            " 3   y_coord        100 non-null    int64  \n",
            " 4   FCH            100 non-null    float64\n",
            " 5   CH             100 non-null    int64  \n",
            " 6   ClusterNumber  100 non-null    int64  \n",
            "dtypes: float64(1), int64(6)\n",
            "memory usage: 5.6 KB\n"
          ]
        }
      ],
      "source": [
        "df.info()"
      ]
    },
    {
      "cell_type": "markdown",
      "metadata": {
        "id": "e9b0mQRApnqM"
      },
      "source": [
        "# Plotting the Initial Data Values"
      ]
    },
    {
      "cell_type": "code",
      "execution_count": 43,
      "metadata": {
        "colab": {
          "base_uri": "https://localhost:8080/",
          "height": 627
        },
        "id": "orxOr-SAUidh",
        "outputId": "03d6e4bb-12af-4580-d926-ceb59946daa3"
      },
      "outputs": [
        {
          "data": {
            "image/png": "[encoded data removed]",
            "text/plain": [
              "<Figure size 1080x720 with 1 Axes>"
            ]
          },
          "metadata": {
            "needs_background": "light"
          },
          "output_type": "display_data"
        }
      ],
      "source": [
        "plt.figure(figsize=(15,10))\n",
        "plt.scatter(df['x_coord'], df['y_coord'])\n",
        "plt.grid(which='major', color='#cccccc', alpha = 0.45)\n",
        "plt.title('WSN Plot', fontsize=20)\n",
        "plt.xlabel('x coord')\n",
        "plt.ylabel('y coord')\n",
        "plt.show()"
      ]
    },
    {
      "cell_type": "code",
      "execution_count": 44,
      "metadata": {
        "id": "GJmGRHudXUng"
      },
      "outputs": [],
      "source": [
        "# Importing DBSCAN from sklearn\n",
        "from sklearn.cluster import DBSCAN\n",
        "dbscan = DBSCAN(eps=30, min_samples=11)"
      ]
    },
    {
      "cell_type": "code",
      "execution_count": 45,
      "metadata": {
        "colab": {
          "base_uri": "https://localhost:8080/"
        },
        "id": "iuSJSKBNfcpA",
        "outputId": "f7e8a6e0-1d2b-46a8-8a32-68fb61ecce58"
      },
      "outputs": [
        {
          "data": {
            "text/plain": [
              "array([[ 10,   7],\n",
              "       [ 37,  73],\n",
              "       [ 87,   8],\n",
              "       [  8,  96],\n",
              "       [  8,  57],\n",
              "       [ 37,  54],\n",
              "       [100,  51],\n",
              "       [ 68,  41],\n",
              "       [ 12,  58],\n",
              "       [ 77,   3],\n",
              "       [ 89, 100],\n",
              "       [ 87,  49],\n",
              "       [ 34,  12],\n",
              "       [ 73,  80],\n",
              "       [ 63,  23],\n",
              "       [ 37,  53],\n",
              "       [ 69,  68],\n",
              "       [ 50,  12],\n",
              "       [ 27,  78],\n",
              "       [ 73,  47],\n",
              "       [ 96,  38],\n",
              "       [ 67,  59],\n",
              "       [ 90,  96],\n",
              "       [ 26,  69],\n",
              "       [ 18,  16],\n",
              "       [ 69,  32],\n",
              "       [ 35,  25],\n",
              "       [ 17,  97],\n",
              "       [ 99,  45],\n",
              "       [ 35,  75],\n",
              "       [ 88,  51],\n",
              "       [ 73,  71],\n",
              "       [ 15,  72],\n",
              "       [ 50,  14],\n",
              "       [ 36,  14],\n",
              "       [  5,  52],\n",
              "       [ 65,  92],\n",
              "       [ 23,  35],\n",
              "       [ 69,  29],\n",
              "       [ 57,   5],\n",
              "       [ 30,  33],\n",
              "       [ 31,  36],\n",
              "       [ 11,  53],\n",
              "       [ 35,  23],\n",
              "       [ 16,  19],\n",
              "       [ 55,  25],\n",
              "       [ 46,  16],\n",
              "       [ 13,  72],\n",
              "       [ 48,  79],\n",
              "       [ 53,  14]])"
            ]
          },
          "execution_count": 45,
          "metadata": {},
          "output_type": "execute_result"
        }
      ],
      "source": [
        "X = df.iloc[:, [2, 3]].values # selecting all entries of Temperature and Humidity Column\n",
        "X[0:50] # printing first 10 entries of the list"
      ]
    },
    {
      "cell_type": "markdown",
      "metadata": {
        "id": "pfaNckwqp60s"
      },
      "source": [
        "# Training the Model"
      ]
    },
    {
      "cell_type": "code",
      "execution_count": 46,
      "metadata": {
        "colab": {
          "base_uri": "https://localhost:8080/"
        },
        "id": "mPKWdi_5YJnn",
        "outputId": "c321f74c-a0c5-4ca6-babf-472314a477a9"
      },
      "outputs": [
        {
          "data": {
            "text/plain": [
              "DBSCAN(eps=30, min_samples=11)"
            ]
          },
          "execution_count": 46,
          "metadata": {},
          "output_type": "execute_result"
        }
      ],
      "source": [
        "model = dbscan.fit(X) \n",
        "model"
      ]
    },
    {
      "cell_type": "markdown",
      "metadata": {
        "id": "4mdtrLaXp_up"
      },
      "source": [
        "# Prining labels\n",
        "*   **-ve points represents the outliers they do not fall under any cluster**\n",
        "*   \n",
        "others denote the cluster 0th, 1th, 2th,...8th cluster\n",
        "\n"
      ]
    },
    {
      "cell_type": "code",
      "execution_count": 47,
      "metadata": {
        "colab": {
          "base_uri": "https://localhost:8080/"
        },
        "id": "wPuSse9FgFBc",
        "outputId": "8123e2df-0f19-46a8-a895-ef9c3a65c91a"
      },
      "outputs": [
        {
          "name": "stdout",
          "output_type": "stream",
          "text": [
            "Iteration : 0  Label : 0\n",
            "Iteration : 1  Label : 0\n",
            "Iteration : 2  Label : 0\n",
            "Iteration : 3  Label : 0\n",
            "Iteration : 4  Label : 0\n",
            "Iteration : 5  Label : 0\n",
            "Iteration : 6  Label : 0\n",
            "Iteration : 7  Label : 0\n",
            "Iteration : 8  Label : 0\n",
            "Iteration : 9  Label : 0\n",
            "Iteration : 10  Label : 0\n",
            "Iteration : 11  Label : 0\n",
            "Iteration : 12  Label : 0\n",
            "Iteration : 13  Label : 0\n",
            "Iteration : 14  Label : 0\n",
            "Iteration : 15  Label : 0\n",
            "Iteration : 16  Label : 0\n",
            "Iteration : 17  Label : 0\n",
            "Iteration : 18  Label : 0\n",
            "Iteration : 19  Label : 0\n",
            "Iteration : 20  Label : 0\n",
            "Iteration : 21  Label : 0\n",
            "Iteration : 22  Label : 0\n",
            "Iteration : 23  Label : 0\n",
            "Iteration : 24  Label : 0\n",
            "Iteration : 25  Label : 0\n",
            "Iteration : 26  Label : 0\n",
            "Iteration : 27  Label : 0\n",
            "Iteration : 28  Label : 0\n",
            "Iteration : 29  Label : 0\n",
            "Iteration : 30  Label : 0\n",
            "Iteration : 31  Label : 0\n",
            "Iteration : 32  Label : 0\n",
            "Iteration : 33  Label : 0\n",
            "Iteration : 34  Label : 0\n",
            "Iteration : 35  Label : 0\n",
            "Iteration : 36  Label : 0\n",
            "Iteration : 37  Label : 0\n",
            "Iteration : 38  Label : 0\n",
            "Iteration : 39  Label : 0\n",
            "Iteration : 40  Label : 0\n",
            "Iteration : 41  Label : 0\n",
            "Iteration : 42  Label : 0\n",
            "Iteration : 43  Label : 0\n",
            "Iteration : 44  Label : 0\n",
            "Iteration : 45  Label : 0\n",
            "Iteration : 46  Label : 0\n",
            "Iteration : 47  Label : 0\n",
            "Iteration : 48  Label : 0\n",
            "Iteration : 49  Label : 0\n",
            "Iteration : 50  Label : 0\n",
            "Iteration : 51  Label : 0\n",
            "Iteration : 52  Label : 0\n",
            "Iteration : 53  Label : 0\n",
            "Iteration : 54  Label : 0\n",
            "Iteration : 55  Label : 0\n",
            "Iteration : 56  Label : 0\n",
            "Iteration : 57  Label : 0\n",
            "Iteration : 58  Label : 0\n",
            "Iteration : 59  Label : 0\n",
            "Iteration : 60  Label : 0\n",
            "Iteration : 61  Label : 0\n",
            "Iteration : 62  Label : 0\n",
            "Iteration : 63  Label : 0\n",
            "Iteration : 64  Label : 0\n",
            "Iteration : 65  Label : 0\n",
            "Iteration : 66  Label : 0\n",
            "Iteration : 67  Label : 0\n",
            "Iteration : 68  Label : 0\n",
            "Iteration : 69  Label : 0\n",
            "Iteration : 70  Label : 0\n",
            "Iteration : 71  Label : 0\n",
            "Iteration : 72  Label : 0\n",
            "Iteration : 73  Label : 0\n",
            "Iteration : 74  Label : 0\n",
            "Iteration : 75  Label : 0\n",
            "Iteration : 76  Label : 0\n",
            "Iteration : 77  Label : 0\n",
            "Iteration : 78  Label : 0\n",
            "Iteration : 79  Label : 0\n",
            "Iteration : 80  Label : 0\n",
            "Iteration : 81  Label : 0\n",
            "Iteration : 82  Label : 0\n",
            "Iteration : 83  Label : 0\n",
            "Iteration : 84  Label : 0\n",
            "Iteration : 85  Label : 0\n",
            "Iteration : 86  Label : 0\n",
            "Iteration : 87  Label : 0\n",
            "Iteration : 88  Label : 0\n",
            "Iteration : 89  Label : 0\n",
            "Iteration : 90  Label : 0\n",
            "Iteration : 91  Label : 0\n",
            "Iteration : 92  Label : 0\n",
            "Iteration : 93  Label : 0\n",
            "Iteration : 94  Label : 0\n",
            "Iteration : 95  Label : 0\n",
            "Iteration : 96  Label : 0\n",
            "Iteration : 97  Label : 0\n",
            "Iteration : 98  Label : 0\n",
            "Iteration : 99  Label : 0\n"
          ]
        }
      ],
      "source": [
        "labels = model.labels_\n",
        "for i in range (0,100):\n",
        "  print(\"Iteration : {}  Label : {}\".format(i,labels[i]))"
      ]
    },
    {
      "cell_type": "markdown",
      "metadata": {
        "id": "20CxA2BChO6y"
      },
      "source": [
        "# Visualizing Results\n",
        "Separate outliers from cluster data\n"
      ]
    },
    {
      "cell_type": "code",
      "execution_count": 48,
      "metadata": {
        "id": "UdTMaUe8gQgM"
      },
      "outputs": [],
      "source": [
        "outliers_df = df[model.labels_== -1] #-1 stands for outlier\n",
        "clusters_df = df[model.labels_ != -1]"
      ]
    },
    {
      "cell_type": "code",
      "execution_count": 49,
      "metadata": {},
      "outputs": [
        {
          "data": {
            "text/html": [
              "<div>\n",
              "<style scoped>\n",
              "    .dataframe tbody tr th:only-of-type {\n",
              "        vertical-align: middle;\n",
              "    }\n",
              "\n",
              "    .dataframe tbody tr th {\n",
              "        vertical-align: top;\n",
              "    }\n",
              "\n",
              "    .dataframe thead th {\n",
              "        text-align: right;\n",
              "    }\n",
              "</style>\n",
              "<table border=\"1\" class=\"dataframe\">\n",
              "  <thead>\n",
              "    <tr style=\"text-align: right;\">\n",
              "      <th></th>\n",
              "      <th>Unnamed: 0</th>\n",
              "      <th>NODEID</th>\n",
              "      <th>x_coord</th>\n",
              "      <th>y_coord</th>\n",
              "      <th>FCH</th>\n",
              "      <th>CH</th>\n",
              "      <th>ClusterNumber</th>\n",
              "    </tr>\n",
              "  </thead>\n",
              "  <tbody>\n",
              "  </tbody>\n",
              "</table>\n",
              "</div>"
            ],
            "text/plain": [
              "Empty DataFrame\n",
              "Columns: [Unnamed: 0, NODEID, x_coord, y_coord, FCH, CH, ClusterNumber]\n",
              "Index: []"
            ]
          },
          "execution_count": 49,
          "metadata": {},
          "output_type": "execute_result"
        }
      ],
      "source": [
        "outliers_df"
      ]
    },
    {
      "cell_type": "code",
      "execution_count": 50,
      "metadata": {
        "colab": {
          "base_uri": "https://localhost:8080/"
        },
        "id": "jBGmG_RFhe6T",
        "outputId": "123e5432-a40e-463f-fe2b-740035ebfb80"
      },
      "outputs": [
        {
          "name": "stdout",
          "output_type": "stream",
          "text": [
            "<class 'pandas.core.frame.DataFrame'>\n",
            "Int64Index: 0 entries\n",
            "Data columns (total 7 columns):\n",
            " #   Column         Non-Null Count  Dtype  \n",
            "---  ------         --------------  -----  \n",
            " 0   Unnamed: 0     0 non-null      int64  \n",
            " 1   NODEID         0 non-null      int64  \n",
            " 2   x_coord        0 non-null      int64  \n",
            " 3   y_coord        0 non-null      int64  \n",
            " 4   FCH            0 non-null      float64\n",
            " 5   CH             0 non-null      int64  \n",
            " 6   ClusterNumber  0 non-null      int64  \n",
            "dtypes: float64(1), int64(6)\n",
            "memory usage: 0.0 bytes\n"
          ]
        }
      ],
      "source": [
        "outliers_df.info()"
      ]
    },
    {
      "cell_type": "code",
      "execution_count": 51,
      "metadata": {
        "colab": {
          "base_uri": "https://localhost:8080/"
        },
        "id": "TELYHVkdhjXp",
        "outputId": "9e4f23ca-8a45-433c-9dc1-0aada799e4ca"
      },
      "outputs": [
        {
          "name": "stdout",
          "output_type": "stream",
          "text": [
            "<class 'pandas.core.frame.DataFrame'>\n",
            "Int64Index: 100 entries, 0 to 99\n",
            "Data columns (total 7 columns):\n",
            " #   Column         Non-Null Count  Dtype  \n",
            "---  ------         --------------  -----  \n",
            " 0   Unnamed: 0     100 non-null    int64  \n",
            " 1   NODEID         100 non-null    int64  \n",
            " 2   x_coord        100 non-null    int64  \n",
            " 3   y_coord        100 non-null    int64  \n",
            " 4   FCH            100 non-null    float64\n",
            " 5   CH             100 non-null    int64  \n",
            " 6   ClusterNumber  100 non-null    int64  \n",
            "dtypes: float64(1), int64(6)\n",
            "memory usage: 6.2 KB\n"
          ]
        }
      ],
      "source": [
        "clusters_df.info()"
      ]
    },
    {
      "cell_type": "code",
      "execution_count": 52,
      "metadata": {
        "id": "3cFBmborhoDq"
      },
      "outputs": [],
      "source": [
        "colors = model.labels_\n",
        "colors_clusters = colors[colors != -1]\n",
        "colors_outliers = 'yellow' # for outliers set yellow color"
      ]
    },
    {
      "cell_type": "markdown",
      "metadata": {
        "id": "Ho_hcHC8h0t9"
      },
      "source": [
        "# Core Points, Number of Clusters\n"
      ]
    },
    {
      "cell_type": "code",
      "execution_count": 53,
      "metadata": {
        "colab": {
          "base_uri": "https://localhost:8080/"
        },
        "id": "SCDNusqAhwEf",
        "outputId": "de593a5a-315f-4a41-d617-c04a00c4f3f7"
      },
      "outputs": [
        {
          "name": "stdout",
          "output_type": "stream",
          "text": [
            "Counter({0: 100})\n",
            "Empty DataFrame\n",
            "Columns: [Unnamed: 0, NODEID, x_coord, y_coord, FCH, CH, ClusterNumber]\n",
            "Index: []\n",
            "Number of clusters = 0\n"
          ]
        }
      ],
      "source": [
        "#Get the info about clusters\n",
        "clusters = Counter(model.labels_)\n",
        "print(clusters)\n",
        "print(df[model.labels_ == -1].head(10))\n",
        "print('Number of clusters = {}'.format(len(clusters)-1))"
      ]
    },
    {
      "cell_type": "code",
      "execution_count": 54,
      "metadata": {
        "colab": {
          "base_uri": "https://localhost:8080/"
        },
        "id": "rxWtFAm3h9Q2",
        "outputId": "6e7cbf20-63d1-444b-baf0-982ce6391bed"
      },
      "outputs": [
        {
          "data": {
            "text/plain": [
              "Index(['Unnamed: 0', 'NODEID', 'x_coord', 'y_coord', 'FCH', 'CH',\n",
              "       'ClusterNumber'],\n",
              "      dtype='object')"
            ]
          },
          "execution_count": 54,
          "metadata": {},
          "output_type": "execute_result"
        }
      ],
      "source": [
        "df.columns"
      ]
    },
    {
      "cell_type": "code",
      "execution_count": 55,
      "metadata": {
        "colab": {
          "base_uri": "https://localhost:8080/",
          "height": 680
        },
        "id": "WEd9T6iJiHEc",
        "outputId": "f1c3d10b-47ee-42d5-d72b-9adab444a5f1"
      },
      "outputs": [
        {
          "data": {
            "image/png": "[encoded data removed]",
            "text/plain": [
              "<Figure size 1080x720 with 1 Axes>"
            ]
          },
          "metadata": {
            "needs_background": "light"
          },
          "output_type": "display_data"
        }
      ],
      "source": [
        "# Black Point shows the Outliers\n",
        "fig = plt.figure(figsize=(15,10))\n",
        "ax = fig.add_axes([.1,.1,1,1])\n",
        "\n",
        "ax.scatter(clusters_df['x_coord'], clusters_df['y_coord'],\n",
        "           c = colors_clusters, edgecolors='black', s=50,label = \"Cluster\")\n",
        "ax.scatter(outliers_df['x_coord'], outliers_df['y_coord'],\n",
        "           c = colors_outliers, edgecolors='black', s=50,label = \"Outlier(Anomaly)\")\n",
        "\n",
        "ax.set_xlabel('x_coord', fontsize=20)\n",
        "ax.set_ylabel('y_coord', fontsize=20) \n",
        "\n",
        "plt.title('WSN Outlier Detection by DBSCAN algorithm', fontsize=25)\n",
        "\n",
        "plt.grid(which='major', color='#cccccc', alpha = 0.45)\n",
        "plt.legend()\n",
        "plt.show()"
      ]
    },
    {
      "cell_type": "code",
      "execution_count": 56,
      "metadata": {
        "colab": {
          "base_uri": "https://localhost:8080/",
          "height": 35
        },
        "id": "VI_ac7iDiy-T",
        "outputId": "80f89e73-498e-4f3c-f9be-9f38d728d3a1"
      },
      "outputs": [
        {
          "data": {
            "text/plain": [
              "'euclidean'"
            ]
          },
          "execution_count": 56,
          "metadata": {},
          "output_type": "execute_result"
        }
      ],
      "source": [
        "model.metric"
      ]
    },
    {
      "cell_type": "markdown",
      "metadata": {
        "id": "aHIX-4DgrMZX"
      },
      "source": [
        "## Data Transmission after Anomaly Detection\n",
        "for data transmission, we have to basically transfer the message signal to the base station.\n",
        "For that we have to consider all type of energies that are dissipated during transmission.\n",
        "\n",
        "1.   Transmitter Circuitry Energy ( Etx)\n",
        "2.   Receiver Circuitry Energy ( Erx)\n",
        "3.   Amplification Energy( Eamp)\n",
        "\n",
        "---\n",
        "We consider followinfg initial energy of each node.\n",
        "\n",
        "\n",
        "1.   Transmission - 50nj/bit\n",
        "2.   Receiving - 50nj/bit\n",
        "3.   Amplification - 100pj/bit/m^2\n"
      ]
    },
    {
      "cell_type": "code",
      "execution_count": 58,
      "metadata": {
        "id": "oY89Ve2drL4D"
      },
      "outputs": [
        {
          "ename": "IndentationError",
          "evalue": "unindent does not match any outer indentation level (<tokenize>, line 8)",
          "output_type": "error",
          "traceback": [
            "\u001b[0;36m  File \u001b[0;32m\"<tokenize>\"\u001b[0;36m, line \u001b[0;32m8\u001b[0m\n\u001b[0;31m    [ 0, 12,  1],\u001b[0m\n\u001b[0m    ^\u001b[0m\n\u001b[0;31mIndentationError\u001b[0m\u001b[0;31m:\u001b[0m unindent does not match any outer indentation level\n"
          ]
        }
      ],
      "source": [
        "# Node Class\n",
        "class Node:\n",
        "    def __init__(self):\n",
        "        self.position = {\n",
        "            'x': None,\n",
        "            'y': None\n",
        "        }[11,  0,  0],\n",
        "       [ 0, 12,  1],\n",
        "       [ 0,  0, 14]]\n",
        "        self.is_CH = False\n",
        "        self.power = 0.75\n",
        "        self.is_dead = False\n",
        "        self.last_CH_round = None\n",
        "        self.closest_CH = {\n",
        "            'node_id': None,\n",
        "            'dist': None\n",
        "        }"
      ]
    },
    {
      "cell_type": "code",
      "execution_count": null,
      "metadata": {
        "colab": {
          "base_uri": "https://localhost:8080/"
        },
        "id": "JKlgHThvQf0c",
        "outputId": "d7dd4b22-8bef-453e-83a8-5abf58796624"
      },
      "outputs": [],
      "source": [
        "# Network class\n",
        "class Network:\n",
        "    def __init__(self):\n",
        "        self.dimentions = {\n",
        "            'x': 100,\n",
        "            'y': 100\n",
        "        }\n",
        "        self.no_of_nodes = 100\n",
        "        self.percentage_CH = 0.05 # percentage of nodes to become CH in each round\n",
        "        self.nodes = [Node() for i in range(self.no_of_nodes)]\n",
        "        self.current_round_number = 0\n",
        "        for i in range(self.no_of_nodes):"
      ]
    },
    {
      "cell_type": "code",
      "execution_count": null,
      "metadata": {
        "colab": {
          "base_uri": "https://localhost:8080/",
          "height": 1000
        },
        "id": "IHmdCO13O0i0",
        "outputId": "4326e236-4b87-4da1-b6c7-6eeacb51189b"
      },
      "outputs": [],
      "source": [
        "from sklearn.neighbors import NearestNeighbors\n",
        "neighbors = NearestNeighbors(n_neighbors=4)\n",
        "neighbors_fit = neighbors.fit(X)\n",
        "distances, indices = neighbors_fit.kneighbors(X)\n",
        "distances = np.sort(distances, axis=0)\n",
        "print(distances[0:50])\n",
        "distances = distances[:,3]\n",
        "plt.plot(distances)\n",
        "plt.show()"
      ]
    },
    {
      "cell_type": "code",
      "execution_count": null,
      "metadata": {
        "id": "7epdI8OjtBpb"
      },
      "outputs": [],
      "source": [
        "model.fit_predict"
      ]
    },
    {
      "cell_type": "code",
      "execution_count": null,
      "metadata": {
        "colab": {
          "base_uri": "https://localhost:8080/"
        },
        "id": "-vOQ42E5fvuX",
        "outputId": "af1da2b3-25c1-4cb8-d5dc-1b0002463d05"
      },
      "outputs": [],
      "source": [
        "!pip install kneed"
      ]
    },
    {
      "cell_type": "code",
      "execution_count": null,
      "metadata": {
        "id": "1_B7QOLRgZ3g"
      },
      "outputs": [],
      "source": [
        "y = distances\n",
        "x = range(0, len(y))"
      ]
    },
    {
      "cell_type": "code",
      "execution_count": null,
      "metadata": {
        "colab": {
          "base_uri": "https://localhost:8080/",
          "height": 318
        },
        "id": "G1KdKh_RfxXs",
        "outputId": "61704d30-2621-475c-aa7b-8709123f36f7"
      },
      "outputs": [],
      "source": [
        "from kneed import KneeLocator\n",
        "kn = KneeLocator(x, y, curve='convex', direction='decreasing')\n",
        "print(kn.knee)\n",
        "\n",
        "import matplotlib.pyplot as plt\n",
        "plt.xlabel('TEMPERATURE')\n",
        "plt.ylabel('HUMMIDITY')\n",
        "plt.plot(x, y, 'bx-')\n",
        "plt.vlines(kn.knee, plt.ylim()[0], plt.ylim()[1], linestyles='dashed')"
      ]
    },
    {
      "cell_type": "code",
      "execution_count": null,
      "metadata": {
        "id": "r-rGA6f4gfYj"
      },
      "outputs": [],
      "source": []
    }
  ],
  "metadata": {
    "colab": {
      "collapsed_sections": [],
      "name": "DBSCAN_WSN.ipynb",
      "provenance": [],
      "toc_visible": true
    },
    "kernelspec": {
      "display_name": "Python 3",
      "name": "python3"
    },
    "language_info": {
      "codemirror_mode": {
        "name": "ipython",
        "version": 3
      },
      "file_extension": ".py",
      "mimetype": "text/x-python",
      "name": "python",
      "nbconvert_exporter": "python",
      "pygments_lexer": "ipython3",
      "version": "3.8.10"
    }
  },
  "nbformat": 4,
  "nbformat_minor": 0
}
